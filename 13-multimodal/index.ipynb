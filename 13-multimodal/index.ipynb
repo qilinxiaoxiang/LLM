{
 "cells": [
  {
   "cell_type": "markdown",
   "metadata": {},
   "source": [
    "# 多模态大语言模型\n",
    "\n",
    "## 💡 这节课会带给你\n",
    "\n",
    "1. 了解多模态大模型的原理和价值\n",
    "2. 学会如何组合多种模态的大模型解决业务问题\n",
    "3. 独立训练和部署开源 LLaVA 多模态大模型\n",
    "\n",
    "开始上课！\n"
   ]
  },
  {
   "cell_type": "markdown",
   "metadata": {},
   "source": [
    "## 课件下载\n",
    "\n",
    "到 https://dl.agiclass.ai 下载 `13-multimodal.pptx`\n",
    "\n"
   ]
  },
  {
   "cell_type": "markdown",
   "metadata": {},
   "source": [
    "## 课程实验\n"
   ]
  },
  {
   "cell_type": "markdown",
   "metadata": {},
   "source": [
    "<div class=\"alert alert-warning\">\n",
    "<b>注意：</b>\n",
    "<p>由于网络原因本节课下面代码务必在自己的电脑上运行</p>\n",
    "</div>\n"
   ]
  },
  {
   "cell_type": "markdown",
   "metadata": {},
   "source": [
    "### 模型实践：大规模 图-文 Token 对齐模型 CLIP\n",
    "\n",
    "[图-文 Token 对齐模型 CLIP](clip.ipynb)\n"
   ]
  },
  {
   "cell_type": "markdown",
   "metadata": {},
   "source": [
    "### GPT4v 实战：API 调用、使用场景实践\n",
    "\n",
    "[API 调用、使用场景实践](gpt4_gradio.ipynb)\n"
   ]
  },
  {
   "cell_type": "markdown",
   "metadata": {},
   "source": [
    "### LLaVA 模型训练\n",
    "\n",
    "LLaVA 模型的训练分为两个主要阶段：\n",
    "\n",
    "- 特征对齐的预训练。只更新特征映射矩阵\n",
    "- 端到端微调。特征投影矩阵和 LLM 都进行更新\n",
    "\n",
    "[LLaVA 模型训练](llava.ipynb)\n",
    "\n",
    "LLaVA 模型训练所需的数据准备过程：\n",
    "\n",
    "[LLaVA 训练数据准备](llava_data_prepare.ipynb)\n"
   ]
  },
  {
   "cell_type": "code",
   "execution_count": null,
   "metadata": {},
   "outputs": [],
   "source": []
  }
 ],
 "metadata": {
  "kernelspec": {
   "display_name": "Python 3 (ipykernel)",
   "language": "python",
   "name": "python3"
  },
  "language_info": {
   "codemirror_mode": {
    "name": "ipython",
    "version": 3
   },
   "file_extension": ".py",
   "mimetype": "text/x-python",
   "name": "python",
   "nbconvert_exporter": "python",
   "pygments_lexer": "ipython3",
   "version": "3.11.4"
  }
 },
 "nbformat": 4,
 "nbformat_minor": 4
}
