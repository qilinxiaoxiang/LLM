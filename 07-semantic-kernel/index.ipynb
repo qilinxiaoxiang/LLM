{
 "cells": [
  {
   "cell_type": "markdown",
   "metadata": {},
   "source": [
    "# 💡 这节课会带给你\n",
    "\n",
    "1. Semantic Kernel 的特点和基本用法\n",
    "2. 了解 Semantic Kernel 内置的工具\n",
    "3. 如何用好 SDK 简化基于 LLM 的应用开发\n",
    "\n",
    "开始上课！\n"
   ]
  },
  {
   "cell_type": "markdown",
   "metadata": {},
   "source": [
    "## 🎓 这节课怎么学\n",
    "\n",
    "代码能力要求：**中高**，AI/数学基础要求：**无**\n",
    "\n",
    "1. 有编程基础的同学\n",
    "   - 关注设计模式，实现细节\n",
    "2. 没有编程基础的同学\n",
    "   - 尽量理解 SDK 的概念和价值，尝试体会使用 SDK 前后的差别与意义\n"
   ]
  },
  {
   "cell_type": "markdown",
   "metadata": {},
   "source": [
    "## 1、大语言模型开发框架的价值是什么？\n"
   ]
  },
  {
   "cell_type": "markdown",
   "metadata": {},
   "source": [
    "所有开发框架（SDK）的核心价值，都是降低开发、维护成本。\n",
    "\n",
    "大语言模型开发框架的价值，是让开发者可以更方便地开发基于大语言模型的应用。主要提供两类帮助：\n",
    "\n",
    "1. 第三方能力抽象。比如 LLM、向量数据库、搜索引擎等\n",
    "2. 常用工具、方案封装\n",
    "3. 底层实现封装。比如流式接口、超时重连、异步与并行等\n",
    "\n",
    "好的开发框架，需要具备以下特点：\n",
    "\n",
    "1. 可靠性、鲁棒性\n",
    "2. 可维护性高\n",
    "3. 高内聚、低耦合\n",
    "4. 易用\n",
    "\n",
    "举些通俗的例子：\n",
    "\n",
    "- 与外部功能解依赖\n",
    "  - 比如可以随意更换 LLM 而不用大量重构代码\n",
    "  - 更换三方工具也同理\n",
    "- 经常变的部分要在外部维护而不是放在代码里\n",
    "  - 比如 Prompt 模板\n",
    "- 各种环境下都适用\n",
    "  - 比如线程安全\n",
    "- 方便调试和测试\n",
    "  - 至少要能感觉到用了比不用方便吧\n",
    "  - 合法的输入不会引发框架内部的报错\n",
    "\n",
    "<div class=\"alert alert-success\">\n",
    "<b>划重点：</b>选对了框架，事半功倍；反之，事倍功半。\n",
    "</div>\n"
   ]
  },
  {
   "cell_type": "markdown",
   "metadata": {},
   "source": [
    "## 2、Semantic Kernel\n",
    "\n",
    "「 Today's AI models can easily generate messages and images for users. While this is helpful when building a simple chat app, it is not enough to build fully automated AI agents that can automate business processes and empower users to achieve more. To do so, you would need a framework that can take the responses from these models and use them to call existing code to actually do something productive. 」\n",
    "\n",
    "1. Semantic Kernel 是微软研发的一个开源的，面向大模型的开发框架（SDK）；\n",
    "2. 它支持你用不同开发语言（C#/Python/Java）基于 OpenAI API/Azure OpenAI API/Huggingface 开发大模型应用；\n",
    "3. 它封装了一系列开箱即用的工具，包括：提示词模板、链式调用、规划能力等；\n",
    "4. 它定位在将基于「Prompt」的 AI 能力，与传统的程序开发无缝整合。"
   ]
  },
  {
   "cell_type": "markdown",
   "metadata": {},
   "source": [
    "_SDK：Software Development Kit，它是一组软件工具和资源的集合，旨在帮助开发者创建、测试、部署和维护应用程序或软件。_\n"
   ]
  },
  {
   "cell_type": "markdown",
   "metadata": {},
   "source": [
    "<div class=\"alert alert-info\">\n",
    "    \n",
    "<b>什么是 SDK?</b> https://aws.amazon.com/cn/what-is/sdk/\n",
    "<br/>\n",
    "<b>SDK 和 API 的区别是什么?</b> https://aws.amazon.com/cn/compare/the-difference-between-sdk-and-api/\n",
    "</div>\n"
   ]
  },
  {
   "cell_type": "markdown",
   "metadata": {},
   "source": [
    "## 2.1、SK 的开发进展\n"
   ]
  },
  {
   "cell_type": "markdown",
   "metadata": {},
   "source": [
    "1. C# 版最成熟，已开始 1.10：https://github.com/microsoft/semantic-kernel\n",
    "2. Python 是 beta 版：https://github.com/microsoft/semantic-kernel\n",
    "3. Java 版目前单独维护在 Java-V1分支下：https://github.com/microsoft/semantic-kernel/tree/java-v1\n",
    "4. 文档写得特别好，但追不上代码更新速度：\n",
    "   - 更多讲解：https://learn.microsoft.com/en-us/semantic-kernel/overview/\n",
    "   - 更偏实操：https://github.com/microsoft/semantic-kernel/blob/main/python/notebooks/00-getting-started.ipynb\n",
    "   - API Reference (目前只有 C#): https://learn.microsoft.com/en-us/dotnet/api/microsoft.semantickernel?view=semantic-kernel-dotnet\n",
    "5. 更多生态：https://github.com/geffzhang/awesome-semantickernel\n",
    "\n",
    "这里可以了解最新进展：https://learn.microsoft.com/en-us/semantic-kernel/get-started/supported-languages\n",
    "\n",
    "不同语言之间的概念都是相通的。本课程以 Python 版为例。\n"
   ]
  },
  {
   "cell_type": "markdown",
   "metadata": {},
   "source": [
    "## 2.2、SK 的生态位\n"
   ]
  },
  {
   "cell_type": "markdown",
   "metadata": {},
   "source": [
    "微软将此技术栈命名为 Copilot Stack。现在官方也常说 Agent Stack。\n",
    "\n",
    "<img src=\"copilot-stack.png\" alt=\"SK 的生态位\" width=\"400\"/>\n",
    "\n",
    "解释：\n",
    "\n",
    "- Plugin extensibility: 插件扩展\n",
    "- Copilots: AI 助手（副驾驶），例如 GitHub Copilot、Office 365 Copilot、Windows Copilot\n",
    "- AI orchestration: AI 编排，SK 就在这里\n",
    "- Foundation models: 基础大模型，例如 GPT-4\n",
    "- AI infrastructure: AI 基础设施，例如 PyTorch、GPU\n"
   ]
  },
  {
   "cell_type": "markdown",
   "metadata": {},
   "source": [
    "### 怎么理解这个 **AI 编排**\n"
   ]
  },
  {
   "cell_type": "markdown",
   "metadata": {},
   "source": [
    "SK 是个野心勃勃的项目，它希望：\n",
    "\n",
    "1. 让开发者更容易的把 LLM 的能力集成到应用中，像调用函数一样简单\n",
    "2. 让 Prompt 构成的「函数」（Semantic Function，见下文）与原生函数之间，可以很方便的互相嵌套调用\n",
    "3. 让 AI 自动调用本地函数（Native Function）执行相应功能或操作\n",
    "4. 让开发者开发的 LLM 能力与应用解耦，高度可复用\n",
    "5. 让开发者能与微软的整个 Copilot 生态紧密结合，互相提供养料\n",
    "\n",
    "请带着这个视角，逐步体会后面所讲的知识。\n"
   ]
  },
  {
   "cell_type": "markdown",
   "metadata": {},
   "source": [
    "<div class=\"alert alert-success\">\n",
    "<b>使用 SK 的作为 AI 编排器的案例：</b> <a href=\"https://github.com/Azure-Samples/miyagi\">https://github.com/Azure-Samples/miyagi</a>\n",
    "</div>"
   ]
  },
  {
   "cell_type": "markdown",
   "metadata": {},
   "source": [
    "## 2.3、SK 基础架构\n"
   ]
  },
  {
   "cell_type": "markdown",
   "metadata": {},
   "source": [
    "<img src=\"mind-and-body-of-semantic-kernel.png\" alt=\"SK 的架构\" width=\"400\"/>\n",
    "\n",
    "解释：\n",
    "\n",
    "- Models and Memory: 类比为大脑\n",
    "- Connectors: 用来连接各种外部服务，类似驱动程序\n",
    "- Plugins: 用来连接内部技能\n",
    "- Triggers and actions: 外部系统的触发器和动作，类比为四肢\n"
   ]
  },
  {
   "cell_type": "markdown",
   "metadata": {},
   "source": [
    "**类比：** Semantic Kernel 用 **Kernel** 命名，是因为它确实像个操作系统 kernel，做核心资源调配，各种资源都可以挂在它上。\n"
   ]
  },
  {
   "cell_type": "markdown",
   "metadata": {},
   "source": [
    "**说明：** Sematic Kernel 通过 **Kernel** 链接 LLM 与 **Functions**（功能）:\n",
    "\n",
    "- Semantic Functions：通过 Prompt 实现的 LLM 能力\n",
    "- Native Functions: 编程语言原生的函数功能\n",
    "\n",
    "在 SK 中，一组 Function 组成一个技能（Skill/Plugin）。要运行 Skill/Plugin，需要有一个配置和管理的单元，这个组织管理单元就是 Kernel。\n",
    "\n",
    "Kernel 负责管理底层接口与调用顺序，例如：OpenAI/Azure OpenAI 的授权信息、默认的 LLM 模型选择、对话上下文、技能参数的传递等等。\n"
   ]
  },
  {
   "cell_type": "markdown",
   "metadata": {},
   "source": [
    "## 3、环境搭建\n"
   ]
  },
  {
   "cell_type": "markdown",
   "metadata": {},
   "source": [
    "1. 安装 Python 3.x：https://www.python.org/downloads/\n",
    "2. 安装 SK 包：`pip install semantic-kernel`\n",
    "3. 在项目目录创建 .env 文件，添加以下内容：\n",
    "\n",
    "```bash\n",
    "# .env\n",
    "OPENAI_API_KEY=\"\"\n",
    "OPENAI_BASE_URL=\"\"\n",
    "AZURE_OPENAI_DEPLOYMENT_NAME=\"\"\n",
    "AZURE_OPENAI_ENDPOINT=\"\"\n",
    "AZURE_OPENAI_API_KEY=\"\"\n",
    "```\n",
    "\n",
    "OpenAI 和 Azure，配置好一个就行。\n"
   ]
  },
  {
   "cell_type": "code",
   "execution_count": null,
   "metadata": {},
   "outputs": [],
   "source": [
    "#!pip install --upgrade semantic-kernel"
   ]
  },
  {
   "cell_type": "code",
   "execution_count": null,
   "metadata": {},
   "outputs": [],
   "source": [
    "#!pip install --upgrade pydantic"
   ]
  },
  {
   "cell_type": "markdown",
   "metadata": {},
   "source": [
    "## 3.1、Hello, World!\n"
   ]
  },
  {
   "cell_type": "markdown",
   "metadata": {},
   "source": [
    "这是一个简单示例。\n",
    "\n",
    "第一段代码是初始化。后面所有代码都要在执行过这段代码后，才能执行。\n"
   ]
  },
  {
   "cell_type": "code",
   "execution_count": 3,
   "metadata": {},
   "outputs": [],
   "source": [
    "import os\n",
    "import semantic_kernel as sk\n",
    "from semantic_kernel.connectors.ai.open_ai import OpenAIChatCompletion\n",
    "\n",
    "\n",
    "# 加载 .env 到环境变量\n",
    "from dotenv import load_dotenv, find_dotenv\n",
    "_ = load_dotenv(find_dotenv())\n",
    "\n",
    "# 创建 semantic kernel\n",
    "kernel = sk.Kernel()\n",
    "\n",
    "# 配置 OpenAI 服务。OPENAI_BASE_URL 会被自动加载生效\n",
    "api_key = os.getenv('OPENAI_API_KEY')\n",
    "service_id = \"default\"\n",
    "\n",
    "# 将 LLM 服务添加到 kernel 中\n",
    "kernel.add_service(\n",
    "    OpenAIChatCompletion(\n",
    "        service_id=service_id, \n",
    "        ai_model_id=\"gpt-3.5-turbo-1106\", \n",
    "        api_key=api_key\n",
    "    ),\n",
    ")"
   ]
  },
  {
   "cell_type": "markdown",
   "metadata": {},
   "source": [
    "Prompt 调用大模型，被当做一个 **Semantic Function** （下文详述）"
   ]
  },
  {
   "cell_type": "code",
   "execution_count": 8,
   "metadata": {},
   "outputs": [
    {
     "name": "stdout",
     "output_type": "stream",
     "text": [
      "为什么猫咪不喜欢打扑克牌？\n",
      "因为他们总是被抓住！\n"
     ]
    }
   ],
   "source": [
    "# 定义 semantic function\n",
    "\n",
    "joke_function = kernel.add_function(\n",
    "    function_name=\"joke\", # function 名字，必填\n",
    "    plugin_name=\"MyDemoPlugin\", # function 所属的 plugin，必填\n",
    "    prompt=\"讲个笑话\" # prompt，必填\n",
    ")\n",
    "\n",
    "# 运行 function 看结果\n",
    "result = await kernel.invoke(joke_function)\n",
    "print(result)"
   ]
  },
  {
   "cell_type": "markdown",
   "metadata": {},
   "source": [
    "**注意**：以上代码是在 Jupyter 笔记运行的形式，如果本地运行，请参考以下形式\n"
   ]
  },
  {
   "cell_type": "markdown",
   "metadata": {},
   "source": [
    "```python\n",
    "import asyncio\n",
    "\n",
    "async def run_function(*args):\n",
    "    return await kernel.invoke(*args)\n",
    "\n",
    "result = asyncio.run(\n",
    "    run_function(joke_function)\n",
    ")\n",
    "```\n"
   ]
  },
  {
   "cell_type": "markdown",
   "metadata": {},
   "source": [
    "<div class=\"alert alert-success\">\n",
    "<b>划重点：</b>\n",
    "用我们熟悉的操作系统来类比，可以更好地理解 SK。\n",
    "<ol>\n",
    "<li>启动操作系统：<code>kernel = sk.Kernel()</code></li>\n",
    "<li>安装驱动程序：<code>kernel.add_service()</code></li>\n",
    "<li>安装应用程序：<code>func = kernel.add_function()</code></li>\n",
    "<li>运行应用程序：<code>kernel.invoke(func...)</code></li>\n",
    "</ol>\n",
    "</div>\n",
    "\n",
    "基于 SK 开发的主要工作是写「应用程序」，也就是 Plugins（见下文）\n"
   ]
  },
  {
   "cell_type": "markdown",
   "metadata": {},
   "source": [
    "### 3.2、Prompt 模板"
   ]
  },
  {
   "cell_type": "code",
   "execution_count": 12,
   "metadata": {},
   "outputs": [],
   "source": [
    "from semantic_kernel.prompt_template.prompt_template_config import PromptTemplateConfig\n",
    "from semantic_kernel.prompt_template.input_variable import InputVariable\n",
    "from semantic_kernel.functions import KernelArguments\n",
    "\n",
    "# 获取当前默认设定\n",
    "req_settings = kernel.get_service(service_id).get_prompt_execution_settings_class()(service_id=service_id)\n",
    "\n",
    "# 定义 Prompt 模板 \n",
    "# 模板中，变量以 {{$变量名}} 表示\n",
    "prompt_template_config = PromptTemplateConfig(\n",
    "    template=\"讲个关于{{$topic}}的笑话\",\n",
    "    description=\"Generate a joke about a specific topic\",\n",
    "    execution_settings={service_id: req_settings},\n",
    "    input_variables=[\n",
    "        InputVariable(name=\"topic\", description=\"The topic\", is_required=True),\n",
    "    ],\n",
    ")\n",
    "\n",
    "# 注册 function\n",
    "topical_joke_function = kernel.add_function(\n",
    "    function_name=\"topical_joke\",\n",
    "    plugin_name=\"MyDemoPlugin\",\n",
    "    prompt_template_config=prompt_template_config,\n",
    ")"
   ]
  },
  {
   "cell_type": "code",
   "execution_count": 13,
   "metadata": {},
   "outputs": [
    {
     "name": "stdout",
     "output_type": "stream",
     "text": [
      "小明去参加一个面试，面试官问他：“你有什么特长吗？”\n",
      "小明说：“我有一个特别厉害的特长。”\n",
      "面试官好奇地问：“是什么特长？”\n",
      "小明答道：“我特别擅长睡觉，无论什么时候都能睡得很香。”\n",
      "面试官笑了笑说：“这可不是一个好的特长啊。”\n",
      "小明立刻回答：“但是我可以在工作中保持高效率，因为我睡得很香，精力充沛！”\n"
     ]
    }
   ],
   "source": [
    "# 运行 function 看结果\n",
    "result = await kernel.invoke(\n",
    "    topical_joke_function, \n",
    "    KernelArguments(topic=\"小明\") # 传入参数\n",
    ")\n",
    "print(result)"
   ]
  },
  {
   "cell_type": "markdown",
   "metadata": {},
   "source": [
    "### 3.3、Semantic Functions\n"
   ]
  },
  {
   "cell_type": "markdown",
   "metadata": {},
   "source": [
    "Semantic Functions 是纯用数据（Prompt + 配置）定义的，不需要编写任何代码。所以它与编程语言无关，可以被任何编程语言调用。"
   ]
  },
  {
   "cell_type": "markdown",
   "metadata": {},
   "source": [
    "### 3.3.1、持久化存储"
   ]
  },
  {
   "cell_type": "markdown",
   "metadata": {},
   "source": [
    "我们可以将 semantic function 与源代码分离存储。这样更易于维护与复用。\n",
    "\n",
    "一个典型的 semantic function 包含两个文件：\n",
    "\n",
    "- skprompt.txt: 存放 prompt，可以包含参数，还可以调用其它函数\n",
    "- config.json: 存放配置，包括函数功能，参数的数据类型，以及调用大模型时的参数\n",
    "\n",
    "举例：根据用户的自然语言指示，生成 SQL 查询"
   ]
  },
  {
   "cell_type": "markdown",
   "metadata": {},
   "source": [
    "### skprompt.txt\n"
   ]
  },
  {
   "cell_type": "raw",
   "metadata": {},
   "source": [
    "已知数据库结构为：\n",
    "```\n",
    "CREATE TABLE Courses (\n",
    "    id INT AUTO_INCREMENT PRIMARY KEY,\n",
    "    course_date DATE NOT NULL,\n",
    "    start_time TIME NOT NULL,\n",
    "    end_time TIME NOT NULL,\n",
    "    course_name VARCHAR(255) NOT NULL,\n",
    "    instructor VARCHAR(255) NOT NULL\n",
    ");\n",
    "```\n",
    "请将下述用户输入转为SQL表达式\n",
    "用户输入：{{$input}}\n",
    "\n",
    "直接输出SQL语句，不要评论，不要分析，不要Markdown标识!"
   ]
  },
  {
   "cell_type": "markdown",
   "metadata": {},
   "source": [
    "### config.json\n"
   ]
  },
  {
   "cell_type": "raw",
   "metadata": {},
   "source": [
    "{\n",
    "    \"schema\": 1,\n",
    "    \"type\": \"completion\",\n",
    "    \"description\": \"将用户的输入转换成 SQL 语句\",\n",
    "    \"completion\": {\n",
    "        \"max_tokens\": 256,\n",
    "        \"temperature\": 0,\n",
    "        \"top_p\": 0,\n",
    "        \"presence_penalty\": 0,\n",
    "        \"frequency_penalty\": 0\n",
    "    },\n",
    "    \"input\": {\n",
    "        \"parameters\": [\n",
    "            {\n",
    "                \"name\": \"input\",\n",
    "                \"description\": \"用户的输入\",\n",
    "                \"defaultValue\": \"\"\n",
    "            }\n",
    "        ]\n",
    "    }\n",
    "}"
   ]
  },
  {
   "cell_type": "markdown",
   "metadata": {},
   "source": [
    "说明：\n",
    "\n",
    "- `type` 只有 `\"completion\"` 和 `\"embedding\"` 两种\n"
   ]
  },
  {
   "cell_type": "markdown",
   "metadata": {},
   "source": [
    "上面两个文件都在 [demo/MyPlugins/Text2SQL/](demo/MyPlugins/Text2SQL/) 目录下。\n"
   ]
  },
  {
   "cell_type": "markdown",
   "metadata": {},
   "source": [
    "### 3.3.2、导入 Semantic Functions\n"
   ]
  },
  {
   "cell_type": "code",
   "execution_count": 16,
   "metadata": {},
   "outputs": [
    {
     "name": "stdout",
     "output_type": "stream",
     "text": [
      "SELECT * FROM Courses WHERE course_date BETWEEN '2024-04-01' AND '2024-04-30';\n"
     ]
    }
   ],
   "source": [
    "# 加载 semantic function。注意目录结构\n",
    "my_plugins = kernel.add_plugin(parent_directory=\"./demo\", plugin_name=\"MyPlugins\")\n",
    "\n",
    "func = my_plugins[\"Text2SQL\"]\n",
    "\n",
    "# 运行\n",
    "result = await kernel.invoke(\n",
    "    func,\n",
    "    KernelArguments(input=\"2024年4月有哪些课\") ,\n",
    ")\n",
    "print(result)"
   ]
  },
  {
   "cell_type": "markdown",
   "metadata": {},
   "source": [
    "### 3.4、多个输入变量"
   ]
  },
  {
   "cell_type": "markdown",
   "metadata": {},
   "source": [
    "例如我们要维护一个多轮对话，通过 request 和 history 两个变量分别存储 当前输入 和 对话历史\n"
   ]
  },
  {
   "cell_type": "code",
   "execution_count": 18,
   "metadata": {},
   "outputs": [],
   "source": [
    "prompt = \"\"\"对话历史如下:\n",
    "{{$history}}\n",
    "---\n",
    "User: {{$request}}\n",
    "Assistant:  \"\"\"\n",
    "\n",
    "# 定义 Prompt 模板 \n",
    "# 模板中，变量以 {{$变量名}} 表示\n",
    "prompt_template_config = PromptTemplateConfig(\n",
    "    template=prompt,\n",
    "    description=\"Multi-turn dialogue\",\n",
    "    execution_settings={service_id: req_settings},\n",
    "    input_variables=[\n",
    "        InputVariable(name=\"request\", description=\"The user input\", is_required=True),\n",
    "        InputVariable(name=\"history\", description=\"The dialogue history\", is_required=True),\n",
    "    ],\n",
    ")\n",
    "\n",
    "# 注册 function\n",
    "chat = kernel.add_function(\n",
    "    function_name=\"chat\",\n",
    "    plugin_name=\"MyDemoPlugin\",\n",
    "    prompt_template_config=prompt_template_config,\n",
    ")"
   ]
  },
  {
   "cell_type": "markdown",
   "metadata": {},
   "source": [
    "<div class=\"alert alert-warning\">\n",
    "<b>注意：</b>实际开发中，将 Prompt 模板以文件形式存储更容易维护。\n",
    "</div>\n"
   ]
  },
  {
   "cell_type": "code",
   "execution_count": 19,
   "metadata": {},
   "outputs": [
    {
     "name": "stdin",
     "output_type": "stream",
     "text": [
      "User >  我叫王卓然\n"
     ]
    },
    {
     "name": "stdout",
     "output_type": "stream",
     "text": [
      "Assistant > 你好，王卓然先生！有什么我可以帮助你的吗？\n"
     ]
    },
    {
     "name": "stdin",
     "output_type": "stream",
     "text": [
      "User >  我叫什么名字\n"
     ]
    },
    {
     "name": "stdout",
     "output_type": "stream",
     "text": [
      "Assistant > 你的名字是王卓然。\n"
     ]
    },
    {
     "name": "stdin",
     "output_type": "stream",
     "text": [
      "User >  \n"
     ]
    },
    {
     "name": "stdout",
     "output_type": "stream",
     "text": [
      "User >  我是谁\n"
     ]
    },
    {
     "name": "stdout",
     "output_type": "stream",
     "text": [
      "Assistant > 你是王卓然。有什么可以帮助你的吗？\n"
     ]
    },
    {
     "name": "stdout",
     "output_type": "stream",
     "text": [
      "User >  \n"
     ]
    }
   ],
   "source": [
    "from semantic_kernel.contents import ChatHistory\n",
    "\n",
    "chat_history = ChatHistory()\n",
    "chat_history.add_system_message(\"You are a helpful chatbot who is good at answering user's questions.\")\n",
    "\n",
    "while True:\n",
    "    request = input(\"User > \").strip()\n",
    "    if not request:\n",
    "        break\n",
    "    result = await kernel.invoke(\n",
    "        chat,\n",
    "        KernelArguments(\n",
    "            request=request,\n",
    "            history=chat_history\n",
    "        ),\n",
    "    )\n",
    "    print(f\"Assistant > {result}\")\n",
    "    chat_history.add_user_message(request)\n",
    "    chat_history.add_assistant_message(str(result))\n",
    "    "
   ]
  },
  {
   "cell_type": "markdown",
   "metadata": {},
   "source": [
    "### 3.5、Native Functions\n"
   ]
  },
  {
   "cell_type": "markdown",
   "metadata": {},
   "source": [
    "用编程语言写的函数，如果用 SK 的 Native Function 方式定义，就能纳入到 SK 的编排体系，可以被 Planner、其它 Plugin 调用。\n",
    "\n",
    "下面，写一个查询数据库的函数。\n",
    "\n",
    "这个函数名是 `query_database`。输入为一个 SQL 表达式\n",
    "\n",
    "它可以放到目录结构中，在 [demo/MyPlugins/DBPlugin.py](demo/MyPlugins/DBPlugin.py) 里加入。\n"
   ]
  },
  {
   "cell_type": "code",
   "execution_count": 20,
   "metadata": {},
   "outputs": [],
   "source": [
    "from semantic_kernel.functions import kernel_function\n",
    "\n",
    "class DBConnectorPlugin:\n",
    "    def __init__(self, db_cursor):\n",
    "        self.db_cursor = db_cursor\n",
    "\n",
    "    @kernel_function(\n",
    "        description=\"查询数据库\",  # function 描述\n",
    "        name=\"query_database\",  # function 名字\n",
    "    )\n",
    "    def exec(self, sql_exp: str) -> str:\n",
    "        self.db_cursor.execute(sql_exp)\n",
    "        records = cursor.fetchall()\n",
    "        return str(records)"
   ]
  },
  {
   "cell_type": "code",
   "execution_count": 21,
   "metadata": {},
   "outputs": [],
   "source": [
    "# 定义本地函数和数据库\n",
    "\n",
    "import sqlite3\n",
    "\n",
    "# 创建数据库连接\n",
    "conn = sqlite3.connect(':memory:')\n",
    "cursor = conn.cursor()\n",
    "\n",
    "# 创建orders表\n",
    "cursor.execute(\"\"\"\n",
    "CREATE TABLE Courses (\n",
    "    id INT AUTO_INCREMENT PRIMARY KEY,\n",
    "    course_date DATE NOT NULL,\n",
    "    start_time TIME NOT NULL,\n",
    "    end_time TIME NOT NULL,\n",
    "    course_name VARCHAR(255) NOT NULL,\n",
    "    instructor VARCHAR(255) NOT NULL\n",
    ");\n",
    "\"\"\")\n",
    "\n",
    "# 插入5条明确的模拟记录\n",
    "timetable = [\n",
    "    ('2024-01-23', '20:00', '22:00', '大模型应用开发基础', '孙志岗'),\n",
    "    ('2024-01-25', '20:00', '22:00', 'Prompt Engineering', '孙志岗'),\n",
    "    ('2024-01-29', '20:00', '22:00', '赠课：软件开发基础概念与环境搭建', '西树'),\n",
    "    ('2024-02-20', '20:00', '22:00', '从AI编程认知AI', '林晓鑫'),\n",
    "    ('2024-02-22', '20:00', '22:00', 'Function Calling', '孙志岗'),\n",
    "    ('2024-02-29', '20:00', '22:00', 'RAG和Embeddings', '王卓然'),\n",
    "    ('2024-03-05', '20:00', '22:00', 'Assistants API', '王卓然'),\n",
    "    ('2024-03-07', '20:00', '22:00', 'Semantic Kernel', '王卓然'),\n",
    "    ('2024-03-14', '20:00', '22:00', 'LangChain', '王卓然'),\n",
    "    ('2024-03-19', '20:00', '22:00', 'LLM应用开发工具链', '王卓然'),\n",
    "    ('2024-03-21', '20:00', '22:00', '手撕 AutoGPT', '王卓然'),\n",
    "    ('2024-03-26', '20:00', '22:00', '模型微调（上）', '王卓然'),\n",
    "    ('2024-03-28', '20:00', '22:00', '模型微调（下）', '王卓然'),\n",
    "    ('2024-04-09', '20:00', '22:00', '多模态大模型（上）', '多老师'),\n",
    "    ('2024-04-11', '20:00', '22:00', '多模态大模型（中）', '多老师'),\n",
    "    ('2024-04-16', '20:00', '22:00', '多模态大模型（下）', '多老师'),\n",
    "    ('2024-04-18', '20:00', '22:00', 'AI产品部署和交付（上）', '王树冬'),\n",
    "    ('2024-04-23', '20:00', '22:00', 'AI产品部署和交付（下）', '王树冬'),\n",
    "    ('2024-04-25', '20:00', '22:00', '抓住大模型时代的创业机遇', '孙志岗'),\n",
    "    ('2024-05-07', '20:00', '22:00', '产品运营和业务沟通', '孙志岗'),\n",
    "    ('2024-05-09', '20:00', '22:00', '产品设计', '孙志岗'),\n",
    "    ('2024-05-14', '20:00', '22:00', '项目方案分析与设计', '王卓然'),\n",
    "]\n",
    "\n",
    "for record in timetable:\n",
    "    cursor.execute('''\n",
    "    INSERT INTO Courses (course_date, start_time, end_time, course_name, instructor)\n",
    "    VALUES (?, ?, ?, ?, ?)\n",
    "    ''', record)\n",
    "\n",
    "# 提交事务\n",
    "conn.commit()"
   ]
  },
  {
   "cell_type": "code",
   "execution_count": 25,
   "metadata": {},
   "outputs": [
    {
     "name": "stdout",
     "output_type": "stream",
     "text": [
      "[(9,)]\n"
     ]
    }
   ],
   "source": [
    "# 加载 native function\n",
    "db_connector = kernel.add_plugin(DBConnectorPlugin(cursor), \"DBConnectorPlugin\")\n",
    "\n",
    "# 看结果\n",
    "result = await kernel.invoke(\n",
    "    db_connector[\"query_database\"],\n",
    "    KernelArguments(\n",
    "        sql_exp=\"SELECT COUNT(*) as count FROM Courses WHERE instructor = '王卓然'\"\n",
    "    )\n",
    ")\n",
    "\n",
    "print(result)"
   ]
  },
  {
   "cell_type": "markdown",
   "metadata": {},
   "source": [
    "<div class=\"alert alert-success\">\n",
    "在 SK 中，Semantic Function 和 Native Function 被 Kernel 平等对待。\n",
    "</div>\n"
   ]
  },
  {
   "cell_type": "markdown",
   "metadata": {},
   "source": [
    "**注意**: 另一种 native function 的调用方法，可以写成下述形式。但上面的形式更符合 SK 的设计理念。"
   ]
  },
  {
   "cell_type": "code",
   "execution_count": 30,
   "metadata": {},
   "outputs": [
    {
     "name": "stdout",
     "output_type": "stream",
     "text": [
      "[(9,)]\n"
     ]
    }
   ],
   "source": [
    "result = await db_connector[\"query_database\"](\n",
    "    kernel, sql_exp=\"SELECT COUNT(*) as count FROM Courses WHERE instructor = '王卓然'\"\n",
    ")\n",
    "print(result)"
   ]
  },
  {
   "cell_type": "markdown",
   "metadata": {},
   "source": [
    "### 3.5.1、函数参数 Annotation"
   ]
  },
  {
   "cell_type": "markdown",
   "metadata": {},
   "source": [
    "我们可以通过 Python 的 typing 库中的 Annotated 对象标识每个参数的类型和含义，以便未来在 agent 中使用"
   ]
  },
  {
   "cell_type": "markdown",
   "metadata": {},
   "source": [
    "```python\n",
    "from typing import Annotated\n",
    "\n",
    "class DBConnectorPlugin:\n",
    "    def __init__(self, db_cursor):\n",
    "        self.db_cursor = db_cursor\n",
    "\n",
    "    @kernel_function(\n",
    "        description=\"查询数据库\",  # function 描述\n",
    "        name=\"query_database\",  # function 名字\n",
    "    )\n",
    "    def exec(\n",
    "            self, \n",
    "            sql_exp: Annotated[str, \"SQL查询表达式\"]\n",
    "        ) -> Annotated[str, \"数据库查询结果\"]:\n",
    "        self.db_cursor.execute(sql_exp)\n",
    "        records = cursor.fetchall()\n",
    "        return str(records)\n",
    "```"
   ]
  },
  {
   "cell_type": "markdown",
   "metadata": {},
   "source": [
    "### 3.6、Plugins"
   ]
  },
  {
   "cell_type": "markdown",
   "metadata": {},
   "source": [
    "简单说，plugin 就是一组函数的集合。也可以理解为 namespace。它可以包含两种函数：\n",
    "\n",
    "- Semantic Functions - 语义函数，本质是 Prompt Engineering\n",
    "- Native Functions - 原生函数，将本地代码功能注册在 Kernel 中\n",
    "\n",
    "值得一提的是，SK 的 plugin 会和 ChatGPT、Bing、Microsoft 365 通用。「很快」你用 SK 写的 plugin 就可以在这些平台上无缝使用了。这些平台上的 plugin 也可以通过 SK 被你调用。\n",
    "\n",
    "<div class=\"alert alert-warning\">\n",
    "<b>注意：</b>Plugins 最初命名为 Skills，后来改为 Plugins。如果文档中还有「Skill」遗留。见到后，就知道两者是一回事就好。\n",
    "</div>\n"
   ]
  },
  {
   "cell_type": "markdown",
   "metadata": {},
   "source": [
    "回顾微软的设计理念：应用通过 SK 调用 Plugins 完成各种任务\n",
    "\n",
    "<img src=\"cross-platform-plugins.png\" width=600px/>"
   ]
  },
  {
   "cell_type": "markdown",
   "metadata": {},
   "source": [
    "### 3.6.1、内置 Plugins\n"
   ]
  },
  {
   "cell_type": "markdown",
   "metadata": {},
   "source": [
    "SK 内置了若干好用的 plugin\n",
    "\n",
    "加载方法：\n",
    "\n",
    "```python\n",
    "from semantic_kernel.core_plugins import <PluginName>\n",
    "```\n",
    "\n",
    "它们是：\n",
    "\n",
    "- [`ConversationSummaryPlugin`](https://github.com/microsoft/semantic-kernel/blob/main/python/semantic_kernel/core_plugins/conversation_summary_plugin.py) - 生成对话的摘要\n",
    "- [`HttpPlugin`](https://github.com/microsoft/semantic-kernel/blob/main/python/semantic_kernel/core_plugins/http_plugin.py) - 发出 HTTP 请求，支持 GET、POST、PUT 和 DELETE\n",
    "- [`MathPlugin`](https://github.com/microsoft/semantic-kernel/blob/main/python/semantic_kernel/core_plugins/math_plugin.py) - 加法和减法计算\n",
    "- [`TextMemoryPlugin`](https://github.com/microsoft/semantic-kernel/blob/main/python/semantic_kernel/core_plugins/text_memory_plugin.py) - 保存文本到 memory 中，可以对其做向量检索\n",
    "- [`TextPlugin`](https://github.com/microsoft/semantic-kernel/blob/main/python/semantic_kernel/core_plugins/text_plugin.py) - 把文本全部转为大写或小写，去掉头尾的空格（trim）\n",
    "- [`TimePlugin`](https://github.com/microsoft/semantic-kernel/blob/main/python/semantic_kernel/core_plugins/time_plugin.py) - 获取当前时间及用多种格式获取时间参数\n",
    "- [`WaitPlugin`](https://github.com/microsoft/semantic-kernel/blob/main/python/semantic_kernel/core_plugins/wait_plugin.py) - 等待指定的时间\n",
    "- [`WebSearchEnginePlugin`](https://github.com/microsoft/semantic-kernel/blob/main/python/semantic_kernel/core_plugins/web_search_engine_plugin.py) - 在互联网上搜索给定的文本\n",
    "  ) - 在互联网上搜索给定的文本\n",
    "  osoft/semantic-kernel/blob/main/python/semantic_kernel/core_skills/web_search_engine_skill.py) - 在互联网上搜索给定的文本\n"
   ]
  },
  {
   "cell_type": "markdown",
   "metadata": {},
   "source": [
    "## 4、函数的嵌套调用\n"
   ]
  },
  {
   "cell_type": "markdown",
   "metadata": {},
   "source": [
    "### 4.1、Semantic Function 嵌套调用\n"
   ]
  },
  {
   "cell_type": "markdown",
   "metadata": {},
   "source": [
    "SK 允许在 Prompt 模板中直接调用一个函数\n"
   ]
  },
  {
   "cell_type": "code",
   "execution_count": 35,
   "metadata": {},
   "outputs": [],
   "source": [
    "translate_prompt = \"\"\"\n",
    "将中文词'{{$chinese}}'翻译为日语\n",
    "直接给出一个翻译结果，不要评论。\n",
    "尽可能用Hanji表示。\n",
    "\"\"\""
   ]
  },
  {
   "cell_type": "code",
   "execution_count": 36,
   "metadata": {},
   "outputs": [],
   "source": [
    "joke_prompt = \"\"\"\n",
    "'{{$input}}'的日语是：{{MyDemoPlugin.translate $input}}\n",
    "根据以上词汇在中日文中的语义差异，讲一个笑话。\n",
    "\"\"\""
   ]
  },
  {
   "cell_type": "code",
   "execution_count": 37,
   "metadata": {},
   "outputs": [],
   "source": [
    "import os\n",
    "import semantic_kernel as sk\n",
    "from semantic_kernel.connectors.ai.open_ai import OpenAIChatCompletion\n",
    "\n",
    "\n",
    "# 加载 .env 到环境变量\n",
    "from dotenv import load_dotenv, find_dotenv\n",
    "_ = load_dotenv(find_dotenv())\n",
    "\n",
    "# 创建 semantic kernel\n",
    "kernel = sk.Kernel()\n",
    "\n",
    "# 配置 OpenAI 服务。OPENAI_BASE_URL 会被自动加载生效\n",
    "api_key = os.getenv('OPENAI_API_KEY')\n",
    "service_id = \"default\"\n",
    "\n",
    "# 将 LLM 服务添加到 kernel 中\n",
    "kernel.add_service(\n",
    "    OpenAIChatCompletion(\n",
    "        service_id=service_id, \n",
    "        ai_model_id=\"gpt-3.5-turbo-1106\", \n",
    "        api_key=api_key\n",
    "    ),\n",
    ")"
   ]
  },
  {
   "cell_type": "code",
   "execution_count": 38,
   "metadata": {},
   "outputs": [],
   "source": [
    "from semantic_kernel.prompt_template.prompt_template_config import PromptTemplateConfig\n",
    "from semantic_kernel.prompt_template.input_variable import InputVariable\n",
    "from semantic_kernel.functions import KernelArguments\n",
    "\n",
    "# 获取当前默认设定\n",
    "req_settings = kernel.get_service(service_id).get_prompt_execution_settings_class()(service_id=service_id)\n",
    "\n",
    "trans_prompt_template_config = PromptTemplateConfig(\n",
    "    template=translate_prompt,\n",
    "    description=\"Translate Chinese to Japanese\",\n",
    "    execution_settings={service_id: req_settings},\n",
    "    input_variables=[\n",
    "        InputVariable(name=\"chinese\", description=\"The source\", is_required=True),\n",
    "    ],\n",
    ")\n",
    "\n",
    "joke_prompt_template_config = PromptTemplateConfig(\n",
    "    template=joke_prompt,\n",
    "    description=\"Generate a joke about a specific topic\",\n",
    "    execution_settings={service_id: req_settings},\n",
    "    input_variables=[\n",
    "        InputVariable(name=\"input\", description=\"The topic\", is_required=True),\n",
    "    ],\n",
    ")\n",
    "\n",
    "translate_function = kernel.add_function(\n",
    "    function_name=\"translate\",\n",
    "    plugin_name=\"MyDemoPlugin\",\n",
    "    prompt_template_config=trans_prompt_template_config,\n",
    ")\n",
    "\n",
    "joke_function = kernel.add_function(\n",
    "    function_name=\"joke\",\n",
    "    plugin_name=\"MyDemoPlugin\",\n",
    "    prompt_template_config=joke_prompt_template_config,\n",
    ")"
   ]
  },
  {
   "cell_type": "code",
   "execution_count": 39,
   "metadata": {},
   "outputs": [
    {
     "name": "stdout",
     "output_type": "stream",
     "text": [
      "为了给日本朋友寄信，我学了很多日语词汇。但是当我寄出了信件后，他却收到了一封手紙。我想我还需要再多学习一下日语的语义差异。\n"
     ]
    }
   ],
   "source": [
    "result = await kernel.invoke(\n",
    "    joke_function,\n",
    "    KernelArguments(\n",
    "        input=\"信件\"\n",
    "    )\n",
    ")\n",
    "\n",
    "print(result)"
   ]
  },
  {
   "cell_type": "markdown",
   "metadata": {},
   "source": [
    "<div class=\"alert alert-success\">\n",
    "在 Prompt 模板中直接调用 Native Function 也可以。\n",
    "</div>\n"
   ]
  },
  {
   "cell_type": "code",
   "execution_count": 40,
   "metadata": {},
   "outputs": [],
   "source": [
    "prompt = \"\"\"\n",
    "已知，数据库形式为\n",
    "CREATE TABLE Courses (\n",
    "    id INT AUTO_INCREMENT PRIMARY KEY,\n",
    "    course_date DATE NOT NULL,\n",
    "    start_time TIME NOT NULL,\n",
    "    end_time TIME NOT NULL,\n",
    "    course_name VARCHAR(255) NOT NULL,\n",
    "    instructor VARCHAR(255) NOT NULL\n",
    ");\n",
    "\n",
    "用自然语言解释用户的SQL查询的意图和查询结果\n",
    "\n",
    "用户输入：{{$input}}\n",
    "\n",
    "查询结果：{{DBConnectorPlugin.query_database $input}}\n",
    "\"\"\""
   ]
  },
  {
   "cell_type": "code",
   "execution_count": 43,
   "metadata": {},
   "outputs": [
    {
     "name": "stdout",
     "output_type": "stream",
     "text": [
      "用户的SQL查询意图是统计数据库中教授为'王卓然'的课程数量。查询结果显示教授'王卓然'共有9门课程。\n"
     ]
    }
   ],
   "source": [
    "# 加载 native function\n",
    "kernel.add_plugin(DBConnectorPlugin(cursor), \"DBConnectorPlugin\")\n",
    "\n",
    "\n",
    "prompt_template_config = PromptTemplateConfig(\n",
    "    template=prompt,\n",
    "    description=\"查询数据库\",\n",
    "    execution_settings={service_id: req_settings},\n",
    "    input_variables=[\n",
    "        InputVariable(name=\"input\", description=\"The user query\", is_required=True),\n",
    "    ],\n",
    ")\n",
    "\n",
    "db_query_function = kernel.add_function(\n",
    "    function_name=\"db_query\",\n",
    "    plugin_name=\"MyDemoPlugin\",\n",
    "    prompt_template_config=prompt_template_config,\n",
    ")\n",
    "\n",
    "result = await kernel.invoke(\n",
    "    db_query_function,\n",
    "    KernelArguments(\n",
    "        input=\"SELECT COUNT(*) as count FROM Courses WHERE instructor = '王卓然'\"\n",
    "    )\n",
    ")\n",
    "\n",
    "print(result)"
   ]
  },
  {
   "cell_type": "markdown",
   "metadata": {},
   "source": [
    "## 5、Memory\n"
   ]
  },
  {
   "cell_type": "markdown",
   "metadata": {},
   "source": [
    "SK 的 memory 使用非常简单：\n",
    "\n",
    "1. 用 `kernel.add_service()` 添加一个文本向量生成服务\n",
    "2. 用 `kernel.add_plugin()` 添加一个连接向量数据库的\n",
    "3. 用 `memory.save_information()` 保存信息到 memory store\n",
    "4. 用 `memory.search()` 搜索信息\n",
    "\n",
    "使用 ChatALL 的 README.md 做数据，使用内存作为 memory store，我们演示下基于文档对话。\n"
   ]
  },
  {
   "cell_type": "markdown",
   "metadata": {},
   "source": [
    "### 5.1、初始化 Embedding\n"
   ]
  },
  {
   "cell_type": "code",
   "execution_count": 44,
   "metadata": {},
   "outputs": [],
   "source": [
    "import semantic_kernel as sk\n",
    "from semantic_kernel.connectors.ai.open_ai import OpenAIChatCompletion, OpenAITextEmbedding\n",
    "import os\n",
    "\n",
    "# 加载 .env 到环境变量\n",
    "from dotenv import load_dotenv, find_dotenv\n",
    "_ = load_dotenv(find_dotenv())\n",
    "\n",
    "# 创建 semantic kernel\n",
    "kernel = sk.Kernel()\n",
    "\n",
    "# 配置 OpenAI 服务。OPENAI_BASE_URL 会被自动加载生效\n",
    "api_key = os.getenv('OPENAI_API_KEY')\n",
    "service_id = \"default\"\n",
    "\n",
    "llm_service = OpenAIChatCompletion(\n",
    "    service_id=service_id, \n",
    "    ai_model_id=\"gpt-3.5-turbo-1106\", \n",
    "    api_key=api_key\n",
    ")\n",
    "\n",
    "# 将 LLM 服务添加到 kernel 中\n",
    "kernel.add_service(llm_service)\n",
    "\n",
    "embedding_gen = OpenAITextEmbedding(\n",
    "    ai_model_id=\"text-embedding-ada-002\", \n",
    "    api_key=api_key\n",
    ")\n",
    "# 将 Embedding 服务添加到 kernel 中\n",
    "kernel.add_service(embedding_gen)"
   ]
  },
  {
   "cell_type": "code",
   "execution_count": 45,
   "metadata": {},
   "outputs": [
    {
     "data": {
      "text/plain": [
       "KernelPlugin(name='TextMemoryPlugin', description=None, functions={'recall': KernelFunctionFromMethod(metadata=KernelFunctionMetadata(name='recall', plugin_name='TextMemoryPlugin', description='Recall a fact from the long term memory', parameters=[KernelParameterMetadata(name='ask', description='The information to retrieve', default_value=None, type_='str', is_required=True, type_object=<class 'str'>), KernelParameterMetadata(name='collection', description='The collection to search for information.', default_value='generic', type_='str', is_required=False, type_object=<class 'str'>), KernelParameterMetadata(name='relevance', description='The relevance score, from 0.0 to 1.0; 1.0 means perfect match', default_value=0.75, type_='float', is_required=False, type_object=<class 'float'>), KernelParameterMetadata(name='limit', description='The maximum number of relevant memories to recall.', default_value=1, type_='int', is_required=False, type_object=<class 'int'>)], is_prompt=False, is_asynchronous=True, return_parameter=KernelParameterMetadata(name='return', description='', default_value=None, type_='str', is_required=True, type_object=None)), method=<bound method TextMemoryPlugin.recall of TextMemoryPlugin(memory=SemanticTextMemory())>, stream_method=None), 'save': KernelFunctionFromMethod(metadata=KernelFunctionMetadata(name='save', plugin_name='TextMemoryPlugin', description='Save information to semantic memory', parameters=[KernelParameterMetadata(name='text', description='The information to save.', default_value=None, type_='str', is_required=True, type_object=<class 'str'>), KernelParameterMetadata(name='key', description='The unique key to associate with the information.', default_value=None, type_='str', is_required=True, type_object=<class 'str'>), KernelParameterMetadata(name='collection', description='The collection to save the information.', default_value='generic', type_='str', is_required=False, type_object=<class 'str'>)], is_prompt=False, is_asynchronous=True, return_parameter=KernelParameterMetadata(name='return', description='', default_value=None, type_='', is_required=True, type_object=None)), method=<bound method TextMemoryPlugin.save of TextMemoryPlugin(memory=SemanticTextMemory())>, stream_method=None)})"
      ]
     },
     "execution_count": 45,
     "metadata": {},
     "output_type": "execute_result"
    }
   ],
   "source": [
    "from semantic_kernel.core_plugins.text_memory_plugin import TextMemoryPlugin\n",
    "from semantic_kernel.memory.semantic_text_memory import SemanticTextMemory\n",
    "from semantic_kernel.memory.volatile_memory_store import VolatileMemoryStore\n",
    "\n",
    "# 创建一个（内存）向量数据库\n",
    "memory = SemanticTextMemory(storage=VolatileMemoryStore(), embeddings_generator=embedding_gen)\n",
    "\n",
    "# 添加一个连接向量数据库的 Plugin\n",
    "kernel.add_plugin(TextMemoryPlugin(memory), \"TextMemoryPlugin\")"
   ]
  },
  {
   "cell_type": "markdown",
   "metadata": {},
   "source": [
    "### 5.2、文本向量化\n"
   ]
  },
  {
   "cell_type": "code",
   "execution_count": 46,
   "metadata": {},
   "outputs": [],
   "source": [
    "from semantic_kernel.text import split_markdown_lines\n",
    "\n",
    "# 读取文件内容\n",
    "with open('ChatALL.md', 'r') as f:\n",
    "    # with open('sk_samples/SamplePlugin/SamplePlugin.py', 'r') as f:\n",
    "    content = f.read()\n",
    "\n",
    "# 将文件内容分片，单片最大 100 token（注意：SK 的 text split 功能目前对中文支持不如对英文支持得好）\n",
    "lines = split_markdown_lines(content, 100)\n",
    "\n",
    "collection_id = \"generic\"\n",
    "\n",
    "# 将分片后的内容，存入内存\n",
    "for index, line in enumerate(lines):\n",
    "    await memory.save_information(collection=collection_id, id=index, text=line)"
   ]
  },
  {
   "cell_type": "markdown",
   "metadata": {},
   "source": [
    "### 5.3、向量搜索\n"
   ]
  },
  {
   "cell_type": "code",
   "execution_count": 47,
   "metadata": {},
   "outputs": [
    {
     "name": "stdout",
     "output_type": "stream",
     "text": [
      "拥有可以访问这些 AI 的帐号，或 API token。\n",
      "2. 与 AI 网站有可靠的网络连接。\n",
      "\n",
      "## 下载 / 安装\n",
      "\n",
      "从 https://github.com/sunner/ChatALL/releases 下载\n",
      "\n",
      "### Windows 系统\n",
      "\n",
      "直接下载 \\*-win.exe 安装文件并运行之。\n",
      "\n",
      "### macOS 系统\n",
      "\n",
      "对于苹果硅芯片 Mac（M1，M2 CPU），请下载 \\*-mac-arm64.\n"
     ]
    }
   ],
   "source": [
    "result = await memory.search(collection_id, \"ChatALL怎么下载？\")\n",
    "print(result[0].text)"
   ]
  },
  {
   "cell_type": "markdown",
   "metadata": {},
   "source": [
    "### 5.4、现在用函数嵌套做一个简单的 RAG\n",
    "\n",
    "例：基于 ChatALL 的说明文档，做问答\n",
    "\n",
    "在自定义的 Semantic Function 中，嵌套调用内置的 `TextMemorySkill`。\n"
   ]
  },
  {
   "cell_type": "code",
   "execution_count": 49,
   "metadata": {},
   "outputs": [
    {
     "name": "stdout",
     "output_type": "stream",
     "text": [
      "从 https://github.com/sunner/ChatALL/releases 下载安装文件。对于Windows系统，下载\\*-win.exe文件并运行；对于macOS系统，苹果硅芯片Mac（M1，M2 CPU）下载\\*-mac-arm64文件。\n"
     ]
    }
   ],
   "source": [
    "# 直接在代码里创建 semantic function。真实工程不建议这么做\n",
    "# 里面调用了 `recall()`\n",
    "prompt = \"\"\"\n",
    "基于下面的背景信息回答问题。如果背景信息为空，或者和问题不相关，请回答\"我不知道\"。\n",
    "\n",
    "[背景信息开始]\n",
    "{{recall $input}}\n",
    "[背景信息结束]\n",
    "\n",
    "问题：{{$input}}\n",
    "回答：\n",
    "\"\"\"\n",
    "\n",
    "req_settings = kernel.get_service(service_id).get_prompt_execution_settings_class()(service_id=service_id)\n",
    "\n",
    "prompt_template_config = PromptTemplateConfig(\n",
    "    template=prompt,\n",
    "    description=\"RAG问答\",\n",
    "    execution_settings={service_id: req_settings},\n",
    "    input_variables=[\n",
    "        InputVariable(name=\"input\", description=\"The user query\", is_required=True),\n",
    "    ],\n",
    ")\n",
    "\n",
    "rag_function = kernel.add_function(\n",
    "    function_name=\"search_and_answer\",\n",
    "    plugin_name=\"MyDemoPlugin\",\n",
    "    prompt_template_config=prompt_template_config,\n",
    ")\n",
    "\n",
    "\n",
    "result = await kernel.invoke(\n",
    "    rag_function,\n",
    "    KernelArguments(input=\"ChatALL 怎么下载\")\n",
    ")\n",
    "\n",
    "print(result)"
   ]
  },
  {
   "cell_type": "markdown",
   "metadata": {},
   "source": [
    "### 5.5、连接其它 VectorDB\n",
    "\n",
    "Semantic Kernel 目前已与很多主流的向量数据库做了适配\n",
    "\n",
    "具体参考：https://learn.microsoft.com/en-us/semantic-kernel/memories/vector-db\n"
   ]
  },
  {
   "cell_type": "markdown",
   "metadata": {},
   "source": [
    "## 6、Planner\n"
   ]
  },
  {
   "cell_type": "markdown",
   "metadata": {},
   "source": [
    "SK 的 Planner 目的是 Agent 开发。只封装了几个基本形式，把更多的探索留给了开发者。\n",
    "\n",
    "### 6.1、什么是智能体（Agent）\n",
    "\n",
    "将大语言模型作为一个推理引擎。给定一个任务，智能体自动生成完成任务所需的步骤，执行相应动作（例如选择并调用工具），直到任务完成。\n",
    "\n",
    "这个多步骤的规划过程，就由 **Planner** 完成。\n",
    "\n",
    "<img src=\"agent-overview.png\" style=\"margin-left: 0px\" width=600px>\n",
    "\n",
    "Agent 与 RAG 和 Copilot 的区别\n",
    "\n",
    "<img src=\"types-of-agents.png\" style=\"margin-left: 0px\" width=600px/>\n",
    "\n",
    "### 6.2、SK Python 提供了四种 Planner：\n",
    "\n",
    "1. `SequentialPlanner`\n",
    "   - 制定包含一系列步骤的计划，这些步骤通过自定义生成的输入和输出变量相互连接\n",
    "   - 核心 https://github.com/microsoft/semantic-kernel/blob/main/python/semantic_kernel/planners/sequential_planner/Plugins/SequentialPlanning/skprompt.txt\n",
    "   - 官方例程：https://github.com/microsoft/semantic-kernel/blob/main/python/samples/kernel-syntax-examples/sequential_planner.py\n",
    "2. `ActionPlanner`\n",
    "   - 类似 OpenAI Function Calling，从 kernel 中已注册的所有 plugin 中找到一个该执行的函数\n",
    "   - 核心 prompt：https://github.com/microsoft/semantic-kernel/blob/main/python/semantic_kernel/planners/action_planner/skprompt.txt\n",
    "   - 官方例程：https://github.com/microsoft/semantic-kernel/blob/main/python/samples/kernel-syntax-examples/action_planner.py\n",
    "3. `StepwisePlanner`\n",
    "   - 每执行完一步，都做一下复盘\n",
    "   - 只输出 action，不执行\n",
    "   - 核心 prompt：https://github.com/microsoft/semantic-kernel/blob/main/python/semantic_kernel/planners/stepwise_planner/Plugins/StepwiseStep/skprompt.txt\n",
    "4. `BasicPlanner`\n",
    "   - **不建议使用**。把任务拆解，自动调用各个函数，完成任务。它只是个用于基础验证的功能，最终会被 `SequentialPlanner` 替代\n",
    "   - 核心 prompt：https://github.com/microsoft/semantic-kernel/blob/main/python/semantic_kernel/planners/basic_planner.py\n",
    "\n",
    "使用 planner 的步骤非常简单：\n",
    "\n",
    "1. 把 plugin 注册到 kernel\n",
    "2. 把 kernel 当参数实例化某个 planner\n",
    "3. 调用 planner 的 `create_plan_async()` 方法获得 plan\n",
    "4. 调用 plan 的 `invoke_async()` 方法执行 plan\n",
    "\n",
    "(注意，不同 planner 接口并不一致，不能简单平替)\n"
   ]
  },
  {
   "cell_type": "markdown",
   "metadata": {},
   "source": [
    "### 6.3、用 Planner 实现一个能使用搜索和日历工具的 Agent\n",
    "\n",
    "例：周杰伦2024墨尔本演唱会是星期几\n"
   ]
  },
  {
   "cell_type": "code",
   "execution_count": 1,
   "metadata": {
    "scrolled": true
   },
   "outputs": [],
   "source": [
    "from semantic_kernel.core_plugins import WebSearchEnginePlugin\n",
    "from semantic_kernel.connectors.search_engine import BingConnector\n",
    "from semantic_kernel.planners import SequentialPlanner\n",
    "import semantic_kernel as sk\n",
    "from semantic_kernel.connectors.ai.open_ai import OpenAIChatCompletion\n",
    "import os\n",
    "\n",
    "# 加载 .env 到环境变量\n",
    "from dotenv import load_dotenv, find_dotenv\n",
    "_ = load_dotenv(find_dotenv())\n",
    "\n",
    "# 创建 semantic kernel\n",
    "kernel = sk.Kernel()\n",
    "\n",
    "# 配置 OpenAI 服务。OPENAI_BASE_URL 会被自动加载生效\n",
    "api_key = os.getenv('OPENAI_API_KEY')\n",
    "service_id = \"default\"\n",
    "\n",
    "llm_service = OpenAIChatCompletion(\n",
    "    service_id=service_id, \n",
    "    ai_model_id=\"gpt-4\", \n",
    "    api_key=api_key\n",
    ")\n",
    "\n",
    "# 将 LLM 服务添加到 kernel 中\n",
    "kernel.add_service(llm_service)"
   ]
  },
  {
   "cell_type": "markdown",
   "metadata": {},
   "source": [
    "关于如何注册 BING API KEY ：[BING API KEY](https://agiclass.feishu.cn/wiki/JKV7wXM7IiXJFmk3ktgca1tfnfR)\n"
   ]
  },
  {
   "cell_type": "code",
   "execution_count": 2,
   "metadata": {
    "scrolled": true
   },
   "outputs": [
    {
     "data": {
      "text/plain": [
       "KernelPlugin(name='WebSearch', description=None, functions={'search': KernelFunctionFromMethod(metadata=KernelFunctionMetadata(name='search', plugin_name='WebSearch', description='Performs a web search for a given query', parameters=[KernelParameterMetadata(name='query', description='The search query', default_value=None, type_='str', is_required=True, type_object=<class 'str'>), KernelParameterMetadata(name='num_results', description='The number of search results to return', default_value=1, type_='int', is_required=False, type_object=<class 'int'>), KernelParameterMetadata(name='offset', description='The number of search results to skip', default_value=0, type_='int', is_required=False, type_object=<class 'int'>)], is_prompt=False, is_asynchronous=True, return_parameter=KernelParameterMetadata(name='return', description='', default_value=None, type_='str', is_required=True, type_object=None)), method=<bound method WebSearchEnginePlugin.search of <semantic_kernel.core_plugins.web_search_engine_plugin.WebSearchEnginePlugin object at 0x7fb27c137350>>, stream_method=None)})"
      ]
     },
     "execution_count": 2,
     "metadata": {},
     "output_type": "execute_result"
    }
   ],
   "source": [
    "# 导入搜索 plugin\n",
    "connector = BingConnector(api_key=os.getenv(\"BING_API_KEY\"))\n",
    "kernel.add_plugin(WebSearchEnginePlugin(connector), \"WebSearch\")"
   ]
  },
  {
   "cell_type": "code",
   "execution_count": 4,
   "metadata": {
    "scrolled": true
   },
   "outputs": [
    {
     "name": "stdout",
     "output_type": "stream",
     "text": [
      "Performs a web search for a given query\n",
      "WebSearch.search: {'query': '周杰伦2024墨尔本演唱会日期', 'num_results': 1, 'offset': 0}\n",
      "CONCERT_DATE=['作者：票博士 2024-03-12. 墨尔本演唱会. 布里斯班演唱会. 悉尼演唱会. 2024/2025年很多明星大腕的澳洲演唱会行程都已经确定了。. 包括周杰伦Jay Chou，林俊杰JJ Lin，陈奕迅Eason Chan，五月天Mayday，李荣浩，邓紫棋，王嘉尔，张惠妹，李宗盛，梁静茹Fish Leong，杨千嬅 ...']\n",
      "Get the current day of the week\n",
      "time.dayOfWeek: {'input': '$CONCERT_DATE'}\n",
      "RESULT__DAY_OF_WEEK=Saturday\n",
      "Agent 回复：Saturday\n"
     ]
    }
   ],
   "source": [
    "from semantic_kernel.core_plugins import MathPlugin, TextPlugin, TimePlugin\n",
    "\n",
    "kernel.add_plugin(TimePlugin(), \"time\")\n",
    "\n",
    "# 创建 planner\n",
    "planner = SequentialPlanner(kernel, service_id)\n",
    "\n",
    "# 开始\n",
    "#query = \"周杰伦2024年4月演唱会，哪场离北京最近，帮我订一张机票\"\n",
    "query = \"\"\"周杰伦2024墨尔本演唱会是星期几\"\"\"\n",
    "\n",
    "plan = await planner.create_plan(goal=query)    \n",
    "result = await plan.invoke(kernel)\n",
    "\n",
    "for i, step in enumerate(plan._steps):\n",
    "    print(step.description)\n",
    "    print(step.plugin_name+\".\"+step.name, end=\": \")\n",
    "    print(step.parameters)\n",
    "    print(step._outputs[0] + \"=\" + str(result.metadata[\"results\"][i].value))\n",
    "\n",
    "print(f\"Agent 回复：{result}\")"
   ]
  },
  {
   "cell_type": "markdown",
   "metadata": {},
   "source": [
    "<div class=\"alert alert-success\">\n",
    "这里只需要掌握 Agent 的定义和工作原理。SK 自带的 Agent Prompt 其实效果很差。Agent 的实现技巧我们未来专门讲解。\n",
    "</div>\n"
   ]
  },
  {
   "cell_type": "markdown",
   "metadata": {},
   "source": [
    "**带着以上知识，重新回顾一下 Kernel 的意义**"
   ]
  },
  {
   "cell_type": "markdown",
   "metadata": {},
   "source": [
    "<img src=\"kernel.png\" style=\"margin-left: 0px\" width=600px/>"
   ]
  },
  {
   "cell_type": "markdown",
   "metadata": {},
   "source": [
    "## 7、VS Code 插件\n",
    "\n",
    "这是个 VS Code 的插件，在 VS Code 里可以直接创建和调试 Semantic Function。\n",
    "\n",
    "安装地址：https://marketplace.visualstudio.com/items?itemName=ms-semantic-kernel.semantic-kernel\n"
   ]
  },
  {
   "cell_type": "markdown",
   "metadata": {},
   "source": [
    "## 思考\n",
    "\n",
    "什么时候适合用：\n",
    "\n",
    "- 原生 API + Function Calling\n",
    "- Assistant API\n",
    "- 三方的 SDK, 例如 Semantic Kernel "
   ]
  },
  {
   "cell_type": "markdown",
   "metadata": {},
   "source": [
    "## 总结\n",
    "\n",
    "1. 我是否应该使用开发框架？\n",
    "2. 什么情况下选择 SK ？\n",
    "\n",
    "- 如果你经常需要替换不同 LLM 或有大量的 Prompt 调试需求，选择一个开发框架会让生活更容易\n",
    "- 如果你的 Prompt 里有大量嵌套调用\n",
    "- 如果你必须使用 C#/JAVA 技术栈，SK 可能是目前唯一的选择\n",
    "- 如果你用 Python 技术栈，可以对比一下 LangChain 再做取舍（下节课细讲）\n"
   ]
  },
  {
   "cell_type": "markdown",
   "metadata": {},
   "source": [
    "## 作业\n"
   ]
  },
  {
   "cell_type": "markdown",
   "metadata": {},
   "source": [
    "用 Semantic Kernel 重构 ChatPDF 的作业。\n"
   ]
  }
 ],
 "metadata": {
  "celltoolbar": "Raw Cell Format",
  "kernelspec": {
   "display_name": "Python 3 (ipykernel)",
   "language": "python",
   "name": "python3"
  },
  "language_info": {
   "codemirror_mode": {
    "name": "ipython",
    "version": 3
   },
   "file_extension": ".py",
   "mimetype": "text/x-python",
   "name": "python",
   "nbconvert_exporter": "python",
   "pygments_lexer": "ipython3",
   "version": "3.11.4"
  }
 },
 "nbformat": 4,
 "nbformat_minor": 4
}
