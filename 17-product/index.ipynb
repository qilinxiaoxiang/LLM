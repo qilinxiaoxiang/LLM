{
 "cells": [
  {
   "cell_type": "markdown",
   "metadata": {},
   "source": [
    "# 产品设计\n",
    "\n",
    "## 💡 这节课会带给你\n",
    "\n",
    "1. 如何详细设计产品\n",
    "2. AI 产品设计原则\n",
    "3. 如何快速验证想法\n",
    "\n",
    "开始上课！\n"
   ]
  },
  {
   "cell_type": "markdown",
   "metadata": {},
   "source": [
    "当已经定义好产品的方向和商业模式，接下来就可以设计产品了。\n"
   ]
  },
  {
   "cell_type": "markdown",
   "metadata": {},
   "source": [
    "## 产品设计\n"
   ]
  },
  {
   "cell_type": "markdown",
   "metadata": {},
   "source": [
    "简单说，就三件事：\n",
    "\n",
    "1. 功能设计\n",
    "2. 信息架构设计\n",
    "3. 交互设计\n",
    "\n",
    "如果对视觉要求高，还需要特别做视觉设计。否则套模板就差不多。\n",
    "\n",
    "对全栈来说，三件事不分先后，而是彼此交错。\n",
    "\n",
    "但起手做的，常常是：抄。\n"
   ]
  },
  {
   "cell_type": "markdown",
   "metadata": {},
   "source": [
    "## 怎样优雅地~~抄~~借鉴产品\n",
    "\n",
    "借鉴的合理性：\n",
    "\n",
    "1. 不该打破用户习惯\n",
    "2. 这其实是行业惯例了\n",
    "\n",
    "优雅的姿势：\n",
    "\n",
    "1. 先自己设计，然后再参考\n",
    "2. 学结构、学交互，别学视觉\n",
    "3. 取各家之长做整合\n",
    "4. 功能抽象。做一个简单的功能解决很多问题，而不是做很多功能各解决各自的问题\n",
    "\n",
    "避坑关键：\n",
    "\n",
    "1. 用 5 why 法推演为什么人家这么设计\n",
    "2. 如果找不到理性答案，慎抄，容易进坑\n"
   ]
  },
  {
   "cell_type": "markdown",
   "metadata": {},
   "source": [
    "## 写 PRD\n",
    "\n",
    "一定要先写文档！俗称 PRD（Product Requirement Document）。\n",
    "\n",
    "1. 虽然可能写完没人看，但写文档的过程比结果更重要，可以让思路更清晰\n",
    "2. 飞书的「[产品需求文档](https://www.feishu.cn/docx/TeVHdbg5ao0vEdxRhrNcVPkBnle?&from=template_center&ccm_open_type=template_center)」模板特别好用，往里填就行\n",
    "3. 可以用 ChatGPT 找些思路和灵感，常见功能它写得还不错\n",
    "4. 试试在 IDE 里开着 Copilot 写文档，体验很棒（「体验很棒」这四个字，就是 Copilot 写的）\n",
    "\n",
    "![copilot](copilot.png)\n"
   ]
  },
  {
   "cell_type": "markdown",
   "metadata": {},
   "source": [
    "## AI 产品设计原则\n",
    "\n",
    "在设计产品的过程中，时不时检查，是否这些原则全部符合。\n"
   ]
  },
  {
   "cell_type": "markdown",
   "metadata": {},
   "source": [
    "### GitHub Copilot 总结的四个关键支柱\n",
    "\n",
    "GitHub Copilot 是最早，也是迄今为止最成功的基于大模型 AI 的垂类工具产品。其经验非常值得借鉴。\n",
    "\n",
    "Copilot 团队也乐于分享。在 [How we’re experimenting with LLMs to evolve GitHub Copilot](https://github.blog/2023-12-06-how-were-experimenting-with-llms-to-evolve-github-copilot/) 一文中，总结了 GitHub 设计 AI 产品的四个关键支柱（Key Pillars）：\n",
    "\n",
    "> - **可预测**。我们希望创建能引导开发人员实现最终目标的工具，但不会让他们感到惊讶或不知所措。\n",
    "> - **可容错**。正如我们所见，AI 模型可能犯错。用户应该能够轻松地发现不正确的建议，并以较低的成本来解决，以便专注和提高生产力。\n",
    "> - **可操控**。当回答不正确或不符合用户期望时，他们应该能够引导 AI 找到解决方案。否则，我们就是乐观地指望模型产生完美的答案。\n",
    "> - **可验证**。解决方案必须易于评估。模型并不完美，但如果用户能验证其输出，它们就能成为非常有用的工具。\n"
   ]
  },
  {
   "cell_type": "markdown",
   "metadata": {},
   "source": [
    "### 总结七个实操经验\n",
    "\n",
    "以下内容综合了我们教研团队的实战经验、[有赞 CEO 白鸦的分享](https://www.dedao.cn/live/detail?id=5Ba2YRDqjZBXk7Oyl4LV8xm5PoVYKSkZl2X5Rn4yQeEJAKgW1bvG9Nr0Mzo3nd6b)和[微软的 Collabrative UX 实践](https://www.linkedin.com/learning/ux-for-ai-design-practices-for-ai-developers)。\n",
    "\n",
    "<div class=\"alert alert-success\">\n",
    "  <ol>\n",
    "    <li><strong>永远不要让 AI 直接生效</strong>\n",
    "      <ul>\n",
    "        <li>人工确认是必须的</li>\n",
    "        <li>AI 幻觉永远存在</li>\n",
    "      </ul>\n",
    "    </li>\n",
    "    <li><strong>代替操作和探索，不要代替思考</strong>\n",
    "      <ul>\n",
    "        <li>把 AI 当人看，把用户当老板</li>\n",
    "        <li>不思考的老板是不配发号施令的</li>\n",
    "        <li>让人思考该输入什么，和思考 AI 输出是否正确</li>\n",
    "      </ul>\n",
    "    </li>\n",
    "    <li><strong>尽量减少 chat</strong>\n",
    "      <ul>\n",
    "        <li>先用选项。准确、快捷</li>\n",
    "        <li>对话是兜底方案。选项解决不了，或实在太多时才用</li>\n",
    "      </ul>\n",
    "    </li>\n",
    "    <li><strong>直接给结果</strong>\n",
    "      <ul>\n",
    "        <li>用户只想要结果，没耐心看太多</li>\n",
    "        <li>如果 agent、思维链、工具调用等过程太耗时，报进度</li>\n",
    "      </ul>\n",
    "    </li>\n",
    "    <li><strong>明确告知这是 AI 的输出</strong>\n",
    "      <ul>\n",
    "        <li>给用户可能有错的预期，起到一定免责效果</li>\n",
    "        <li>不要欺骗，不要欺骗，不要欺骗</li>\n",
    "      </ul>\n",
    "    </li>\n",
    "    <li><strong>收集反馈</strong>\n",
    "      <ul>\n",
    "        <li>有反馈才有优化</li>\n",
    "        <li>让用户主动上报，比如 ChatGPT 的 👍 和 👎</li>\n",
    "        <li>采集用户行为，比如 GitHub Copilot 里是否按了 `tab` 键，ChatGPT 里是否点击了 copy 按钮</li>\n",
    "      </ul>\n",
    "    </li>\n",
    "    <li><strong>尊重传统</strong>\n",
    "      <ul>\n",
    "        <li>AI 不是颠覆，是增强</li>\n",
    "        <li>传统产品设计经验，全都继续有效</li>\n",
    "      </ul>\n",
    "    </li>\n",
    "  </ol>\n",
    "</div>\n"
   ]
  },
  {
   "cell_type": "markdown",
   "metadata": {},
   "source": [
    "## 原型设计\n",
    "\n",
    "程序员会更喜欢直接上代码，省却画原型步骤。这个习惯不好：\n",
    "\n",
    "1. 代码写出来就有感情，不爱改\n",
    "2. 画原型图，能在具象和整体层面上，更好地把控。\n",
    "\n",
    "和完整编制的团队不同：\n",
    "\n",
    "1. 独立开发画原型图不需要太精细，线框图足够\n",
    "2. 细节在代码里做调整，更直接、准确\n",
    "3. AI 直接生成原型图除外\n"
   ]
  },
  {
   "cell_type": "markdown",
   "metadata": {},
   "source": [
    "### AI 原型设计工具\n",
    "\n",
    "用 prompt 出设计图。\n",
    "\n",
    "1. [Galileo AI](https://www.usegalileo.ai/)\n",
    "   - 支持 Text to UI 和 Image to UI，设计精美\n",
    "   - 可以用 prompt 继续修改设计\n",
    "   - 可以手工调配主题色、字体等\n",
    "   - 可以直接导出到 Figma\n",
    "2. [v0](https://v0.dev/)\n",
    "   - 支持 Text to UI 和 Image to UI\n",
    "   - 直接生成 React 前端代码，展示效果更真实\n",
    "   - 可以用 prompt 继续修改设计，细节控制优于 Galileo\n",
    "3. [莫高设计 MasterGo](https://mastergo.com/) - 国产的。先放这儿，等它成熟\n",
    "\n",
    "建议流程：\n",
    "\n",
    "1. 用 Galileo 出设计图，发给 v0\n",
    "2. 用 v0 做细节调整，生成代码\n"
   ]
  },
  {
   "cell_type": "markdown",
   "metadata": {},
   "source": [
    "### 传统原型设计工具\n",
    "\n",
    "推荐的工具：\n",
    "\n",
    "1. [draw.io](https://draw.io)\n",
    "   - 免费开源\n",
    "   - 对程序员最友好，可以直接改 style\n",
    "   - 内置的图形库，几乎就足够用了\n",
    "   - 可以直接编辑云文件，包括 GitHub\n",
    "   - 保存的 .png 和 .svg 文件还能继续编辑\n",
    "   - 容器功能特别好用，画架构图首选\n",
    "   - 有客户端，速度更快\n",
    "2. [Figma](https://www.figma.com)\n",
    "   - 最受欢迎的专业原型设计工具，非常非常强大，学习成本稍高\n",
    "   - 可以写 plugin 来扩展其功能\n",
    "   - 适合多人协作，支持实时协同编辑\n",
    "   - 直接生成样式代码\n",
    "   - 有客户端，速度更快\n",
    "   - 处理 logo、icon 等图片，免费版就够用。\n",
    "   - 收购了一家 AI 公司，未来会有更多 AI 功能\n",
    "3. [Motiff](https://motiff.com/)\n",
    "   - 国产新秀，还在测试阶段\n",
    "   - 基本编辑功能和 Figma 大同小异\n",
    "   - AI 魔法框能力很独特，堪称设计界的 Copilot\n",
    "   - AI 识别通用组件也挺有用\n"
   ]
  },
  {
   "cell_type": "markdown",
   "metadata": {},
   "source": [
    "## 极简 UI 设计原则\n",
    "\n",
    "1. 所有元素要**对齐**。和保持代码缩进一样重要\n",
    "2. **亲密性**，相关元素离得更近。和代码里加空行一个道理\n",
    "3. 同一界面**最多使用 4 种颜色**。颜色的意义：传递信息 > 美观\n",
    "4. 用 **4 的倍数**（4、8、12、16、20……）设置大小、间距。视觉感受不明显，但适配性更好\n",
    "\n",
    "<img src=\"design_principles.png\" width=\"600px\" />\n",
    "\n",
    "推荐[《写给大家看的设计书（第 4 版）》](https://www.dedao.cn/ebook/detail?id=rJRdy1qe4xAVBgZrvdGmz8ykaop6QWXnEEwEJnD7LR51qb2KY9NPMXOljVa28m5K)。我用半本书就撑住了半辈子的设计工作……\n"
   ]
  },
  {
   "cell_type": "markdown",
   "metadata": {},
   "source": [
    "## 快速搭 demo\n",
    "\n",
    "可以有个期待，AI 把 PRD 直接变成产品。[MetaGPT](https://github.com/geekan/MetaGPT)、[Devin](https://www.cognition-labs.com/introducing-devin) 在这方面走得最远，但还很不够。\n",
    "\n",
    "懂代码的我们，可以用 [Gradio](https://www.gradio.app/)，快速搭出一个主流程 demo，供用户/客户体验，验证需求。\n"
   ]
  },
  {
   "cell_type": "markdown",
   "metadata": {},
   "source": [
    "### Gradio\n"
   ]
  },
  {
   "cell_type": "markdown",
   "metadata": {},
   "source": [
    "https://www.gradio.app/\n",
    "\n",
    "1. 是 AI 界最常用的界面开发库\n",
    "2. 非常简单，用纯 python 就能写出功能强大的 Web 界面，不需要任何 JavaScript、CSS 知识\n",
    "3. 响应式设计，支持手机、平板、电脑等多种设备\n",
    "4. 文档详细，样例丰富，非常容易上手\n",
    "\n",
    "比如：\n",
    "\n",
    "- Chatbot Arena: https://chat.lmsys.org/\n",
    "- Stable Diffusion web UI: https://github.com/AUTOMATIC1111/stable-diffusion-webui\n",
    "\n",
    "安装：\n",
    "\n",
    "```bash\n",
    "pip install gradio\n",
    "```\n"
   ]
  },
  {
   "cell_type": "markdown",
   "metadata": {},
   "source": [
    "### Hello world\n",
    "\n",
    "先从一个最简单的例子开始，看看 Gradio 的基本用法。\n",
    "\n",
    "[hello-app.py](hello-app.py)\n"
   ]
  },
  {
   "cell_type": "markdown",
   "metadata": {},
   "source": [
    "### 仿 ChatGPT\n",
    "\n",
    "用 Gradio，快速搭出一个 ChatGPT。\n",
    "\n",
    "[chat-app.py](chat-app.py)\n"
   ]
  },
  {
   "cell_type": "markdown",
   "metadata": {},
   "source": [
    "### 更高级的 ChatGPT\n",
    "\n",
    "加上更多参数，适合专业人士使用。\n",
    "\n",
    "[chat-pro-app.py](chat-pro-app.py)\n"
   ]
  },
  {
   "cell_type": "markdown",
   "metadata": {},
   "source": [
    "### 高级定制界面\n",
    "\n",
    "前面演示的都是用内置模板直接创建界面。但 Gradio 还支持高级自定义界面。\n",
    "\n",
    "界面中可以放置的组件，有：\n",
    "\n",
    "- AnnotatedImage\n",
    "- Audio\n",
    "- BarPlot\n",
    "- Button\n",
    "- Chatbot\n",
    "- Checkbox\n",
    "- CheckboxGroup\n",
    "- ClearButton\n",
    "- Code\n",
    "- ColorPicker\n",
    "- Dataframe\n",
    "- Dataset\n",
    "- Dropdown\n",
    "- DuplicateButton\n",
    "- File\n",
    "- Gallery\n",
    "- HTML\n",
    "- HighlightedText\n",
    "- Image\n",
    "- Interpretation\n",
    "- JSON\n",
    "- Label\n",
    "- LinePlot\n",
    "- LoginButton\n",
    "- LogoutButton\n",
    "- Markdown\n",
    "- Model3D\n",
    "- Number\n",
    "- Plot\n",
    "- Radio\n",
    "- ScatterPlot\n",
    "- Slider\n",
    "- State\n",
    "- Textbox\n",
    "- Timeseries\n",
    "- UploadButton\n",
    "- Video\n",
    "\n",
    "界面布局用 tab、row、column 模式，例如：[layout-app.py](layout-app.py)\n"
   ]
  },
  {
   "cell_type": "markdown",
   "metadata": {},
   "source": [
    "## 开发\n",
    "\n",
    "略\n"
   ]
  },
  {
   "cell_type": "markdown",
   "metadata": {},
   "source": [
    "## 迭代\n",
    "\n",
    "<div class=\"alert alert-success\">\n",
    "<b>划重点：</b>谨慎增加新功能，保持小而美\n",
    "</div>\n",
    "\n",
    "1. 别用高频迭代代表勤奋，要用积极运营代表勤奋\n",
    "2. 第一版只做主路径功能。但别忽略细节体验\n",
    "3. 用 KANO 模型，找到提升**核心用户**满意度的功能，只做这些\n",
    "   - 非核心用户骂你，也不要理睬\n",
    "   - 别轻易改变**核心用户**画像。如果要变，可能做个新产品更好\n",
    "\n",
    "![kano](kano.webp)\n",
    "\n",
    "<div class=\"alert alert-warning\">\n",
    "<b>思考：</b>兴奋型、期望型、基本型需求，怎样的优先级？\n",
    "</div>\n"
   ]
  },
  {
   "cell_type": "markdown",
   "metadata": {},
   "source": [
    "## 扩展学习\n",
    "\n",
    "1. [《邱岳·互联网产品方法论》](https://www.dedao.cn/course/detail?id=Ox1El850jp9VaZasnvJZg6MbrdvRBo) - 最真实的\n",
    "2. [《产品思维 - 从新手到资深产品经理》](https://u.jd.com/RqP0OF3) - 逻辑最严密的，适合程序员\n"
   ]
  },
  {
   "cell_type": "markdown",
   "metadata": {},
   "source": [
    "### 作业\n",
    "\n",
    "把你的 AI 产品创意，写成 PRD。\n"
   ]
  }
 ],
 "metadata": {
  "kernelspec": {
   "display_name": "Python 3 (ipykernel)",
   "language": "python",
   "name": "python3"
  },
  "language_info": {
   "codemirror_mode": {
    "name": "ipython",
    "version": 3
   },
   "file_extension": ".py",
   "mimetype": "text/x-python",
   "name": "python",
   "nbconvert_exporter": "python",
   "pygments_lexer": "ipython3",
   "version": "3.11.4"
  }
 },
 "nbformat": 4,
 "nbformat_minor": 4
}
