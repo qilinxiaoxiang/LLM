{
 "cells": [
  {
   "cell_type": "markdown",
   "metadata": {},
   "source": [
    "# 产品运营\n",
    "\n",
    "## 💡 这节课会带给你\n",
    "\n",
    "1. 提高对运营的重视\n",
    "2. 如何做好获客、转化和留存\n",
    "3. 如何与人沟通\n",
    "\n",
    "开始上课！\n"
   ]
  },
  {
   "cell_type": "markdown",
   "metadata": {},
   "source": [
    "## 运营\n",
    "\n",
    "<div class=\"alert alert-warning\">\n",
    "<b>讨论</b>： AGI 创世宫斗中，为什么 OpenAI 最终选择 Sam Altman，而不是 Ilya Sustkever？\n",
    "<ol>\n",
    "<li>Sam Altman：OpenAI CEO</li>\n",
    "<li>Ilya Sustkever：OpenAI 首席科学家</li>\n",
    "</ol>\n",
    "</div>\n"
   ]
  },
  {
   "cell_type": "markdown",
   "metadata": {},
   "source": [
    "运营好于技术的例子（他们的对手就是反例）：\n",
    "\n",
    "1. 海底捞\n",
    "2. 瑞幸咖啡\n",
    "3. ofo\n",
    "\n",
    "基本上：\n",
    "\n",
    "- 技术如果没有压倒性优势（比如 ChatGPT），从一开始就是拼运营\n",
    "  - 国内大模型的竞争，从第一天就是争发布会、刷榜、媒体曝光、建渠道、抢单子（虽然没多少单子）\n",
    "- 只要市场足够肥沃，就算技术压倒性先进，长期也一定会被竞争对手追上，进入拼运营的阶段\n",
    "  - OpenAI 已经暂时失去绝对优势，Claude 和 Gemini 都很逼近甚至某些场景超过了\n",
    "  - 国产大模型技术肯定能追上 OpenAI，只是时间问题\n",
    "\n",
    "为什么运营能构造相对更牢靠的护城河？\n",
    "\n",
    "- 运营构造品牌、渠道、用户感受\n",
    "- 影响的是人的心智、习惯\n",
    "- 人是懒惰的，不爱改变的\n",
    "- 以及，一分运营，一分收入\n",
    "\n",
    "<div class=\"alert alert-success\">\n",
    "<b>划重点：</b>长期看，运营比技术重要很多。\n",
    "</div>\n",
    "\n",
    "运营核心三件事：\n",
    "\n",
    "1. 获客\n",
    "2. 转化\n",
    "3. 留存\n",
    "\n",
    "说起来只有六个字，但运营是个具体而微的工作，无数细节，无数变化。比调 prompt 折腾多了，因为面对的是，更难琢磨的，真人。\n"
   ]
  },
  {
   "cell_type": "markdown",
   "metadata": {},
   "source": [
    "### 获客\n",
    "\n",
    "#### 获客核心\n",
    "\n",
    "<div class=\"alert alert-success\">\n",
    "把最打动人的宣传，呈现给最有可能买单的人。\n",
    "</div>\n",
    "\n",
    "宣传和产品解决的「真需求」是一脉相承的。**能否一句话讲清产品是做什么的**，有时就是成功和失败的分水岭。\n",
    "\n",
    "- 美团外卖，送啥都快\n",
    "- 多快好省逛京东\n",
    "- 知识就在得到\n",
    "- 知乎：有问题，就会有答案\n",
    "- 米堆学堂，生活向上\n",
    "\n",
    "注意：宣传语（slogon）押韵很重要，好记，且有神奇的说服力。\n",
    "\n",
    "#### 免费/低价获客\n",
    "\n",
    "1. 口碑传播\n",
    "   - 价值最高的获客方式\n",
    "   - 用产品自身说话，低成本获客，形成正向循环\n",
    "   - 需要时间积累，起速慢\n",
    "   - 不容易突破圈层\n",
    "2. 社交媒体推广，用内容获客\n",
    "   - 知乎、公众号、视频号、抖音、快手、B 站、小红书、X、TikTok、Facebook 等\n",
    "   - 初期效果不明显，但长期坚持会越来越好\n",
    "   - 根据受众选择媒介\n",
    "   - 用好媒介的推荐策略\n",
    "3. SEO\n",
    "   - 老派，但仍有用\n",
    "   - 尤其适合 2B\n",
    "4. 开源\n",
    "   - 非常利于免费传播\n",
    "   - 开源也是一种商业策略\n",
    "5. 独立开发者友好的社区\n",
    "   - [v2ex](https://www.v2ex.com/)\n",
    "   - [即刻](https://web.okjike.com/)\n",
    "   - [Product Hunt](https://www.producthunt.com/)\n",
    "6. [AI 全栈会员独享的推广渠道](https://agiclass.feishu.cn/docx/M5xydPVjWovB9exHBjDc7IMYnub)\n"
   ]
  },
  {
   "cell_type": "markdown",
   "metadata": {},
   "source": [
    "#### 付费获客\n",
    "\n",
    "谨慎花钱！\n",
    "\n",
    "1. 专业渠道\n",
    "   - 有些渠道公司专门做对应市场的推广，比如高校渠道、HR 渠道等\n",
    "2. 线下渠道\n",
    "   - 到目标用户集中出现的地方\n",
    "   - 学校、商场、展会等\n",
    "3. 意见领袖\n",
    "   - 各种大 V、达人，背书效果好\n",
    "4. 广告平台\n",
    "   - 朋友圈、微博、抖音、快手等\n",
    "   - 流量巨大，几无上限\n",
    "   - 线下广告牌、电视广告等（特别烧钱）\n"
   ]
  },
  {
   "cell_type": "markdown",
   "metadata": {},
   "source": [
    "### 转化\n",
    "\n",
    "1. 如果产品强/客单价低，能形成自然转化\n",
    "2. 如果产品弱/客单价高，要依赖销售策略（话术）\n",
    "\n",
    "客单价越高，对销售的依赖越大。\n",
    "\n",
    "<div class=\"alert alert-success\">\n",
    "销售过程的本质是：挖需 + 针对性解决方案 + 创造超预期的体验\n",
    "</div>\n",
    "\n",
    "此处挖需，千万别用 5 why 法，但要有 5 why 法的精神。\n"
   ]
  },
  {
   "cell_type": "markdown",
   "metadata": {},
   "source": [
    "### 留存\n",
    "\n",
    "<div class=\"alert alert-success\">\n",
    "保持接触是留存的关键。\n",
    "</div>\n",
    "\n",
    "1. 高频使用的产品比低频更容易留存，所以如果可能，优先做高频产品\n",
    "   1. 案例：微信 vs. 支付宝\n",
    "   2. 反例：妙鸭\n",
    "1. 产品价值和服务，是留存的核心\n",
    "1. 通过社交媒体保持触达，把留存和获客合起来做\n",
    "1. 建私域，做私域运营\n"
   ]
  },
  {
   "cell_type": "markdown",
   "metadata": {},
   "source": [
    "## 沟通\n",
    "\n",
    "沟通是做运营的底层能力。\n"
   ]
  },
  {
   "cell_type": "markdown",
   "metadata": {},
   "source": [
    "### 为什么程序员普遍不擅长沟通？\n",
    "\n",
    "[《思考，快与慢》](https://u.jd.com/Rqkcj4i)将人类的思维归纳为两大思考模式：\n",
    "\n",
    "- 系统一，快速、直觉且情绪化\n",
    "- 系统二，较慢、较具计划性且更仰赖逻辑\n",
    "\n",
    "程序员爱知求真讲逻辑，习惯使用系统二，把系统一也驯化到逻辑为先了。\n",
    "\n",
    "而沟通要解决的核心，是感受问题，归系统一管。\n",
    "\n",
    "<div class=\"alert alert-warning\">\n",
    "<strong>思考：</strong>AI 有系统一和系统二吗？\n",
    "</div>\n"
   ]
  },
  {
   "cell_type": "markdown",
   "metadata": {},
   "source": [
    "### 程序员怎么练沟通？\n",
    "\n",
    "<div class=\"alert alert-success\">\n",
    "<b>划重点：</b>实践\n",
    "</div>\n",
    "\n",
    "别逃避，逼自己上去。\n",
    "\n",
    "我们的优势：用刻意隐藏的逻辑打败情绪，相当无敌。\n"
   ]
  },
  {
   "cell_type": "markdown",
   "metadata": {},
   "source": [
    "### 沟通内核\n",
    "\n",
    "找到：\n",
    "\n",
    "1. 事情之外的连接\n",
    "   - 破冰，增加亲切感\n",
    "2. 对方真需求\n",
    "3. 双方共同价值目标\n",
    "   - 好的合作一定基于共同利益\n"
   ]
  },
  {
   "cell_type": "markdown",
   "metadata": {},
   "source": [
    "### 沟通姿势\n",
    "\n",
    "1. 听多于说\n",
    "   - 有些问题，对方说完了，也就解决了\n",
    "   - 获取的信息越多，越有助于理解问题\n",
    "2. 问多于说\n",
    "   - 问是为了更多地收集信息\n",
    "   - 同时也让对方感受到被关注\n",
    "   - 「然后呢？」「你怎么看？」「你希望我怎么做？」\n",
    "3. 想多于说\n",
    "   - 边收集信息边思考\n",
    "   - 想清楚了再说。在头脑里构造思维链，而不是在嘴里。\n",
    "4. 怎么说？\n",
    "   - 「Yes, and」\n",
    "   - 先回应情绪，「我看出来了，您一定很着急/生气/对我很不满意。如果换成我，我肯定比您还着急/生气/不满意」\n",
    "   - 再复述对方的需求，寻求确认，「您希望我能够……，对不对？」\n",
    "   - 最后提出自己的想法，「我想这样……，您怎么看？」\n",
    "   - 出现矛盾，找共同基点，「咱们都是为了公司好，对不对？」「咱们都是想达成这个月的 KPI，对不对？」\n"
   ]
  },
  {
   "cell_type": "markdown",
   "metadata": {},
   "source": [
    "### 沟通小技巧\n",
    "\n",
    "1. 越难的沟通，越要在非正式场合\n",
    "2. 能 90° 坐，别面对面\n",
    "3. 多看对方的眼睛\n",
    "4. 清晰地把手机扣在桌上/合上电脑\n",
    "5. 记笔记\n"
   ]
  },
  {
   "cell_type": "markdown",
   "metadata": {},
   "source": [
    "### 功夫在日常\n",
    "\n",
    "无事要登三宝殿。\n",
    "\n",
    "1. 多进行社交媒体互动\n",
    "2. 多去对方那里转转（如果工位搬过去就更好了）\n",
    "3. 时不时请吃饭\n"
   ]
  },
  {
   "cell_type": "markdown",
   "metadata": {},
   "source": [
    "# 扩展学习\n",
    "\n",
    "- [运营之光：我的互联网运营方法论与自白 3.0](https://u.jd.com/RbPTCXx) - 最久经考验的运营书\n",
    "- [得到·沟通训练营](https://zt.igetget.com/visual/zDOqvrr0KkS7VVN5QBlD.html?source_id=6zU-Bz3d9no_QQRc-kZfUw) - 虽然贵点儿，但值。而且是我在得到的遗作\n",
    "- [关键对话·如何高效能沟通](https://u.jd.com/RiPBMbM) - 讲沟通的书很多，这一本就够了\n"
   ]
  },
  {
   "cell_type": "markdown",
   "metadata": {},
   "source": [
    "# 全课总结\n",
    "\n",
    "核心：**把 AI 当人看**\n",
    "\n",
    "两大定律：\n",
    "\n",
    "1. AI 能力定律：AI 能力的上限，是使用者的判断力\n",
    "2. AI 提效定律：AI 提升的效率，与使用者的判断力成正比，与生产力成反比\n",
    "\n",
    "技术框架：\n",
    "<img src=\"../01-intro/tech_arch.png\" width=\"100%\">\n",
    "\n",
    "技术路线：\n",
    "<img src=\"../01-intro/tech_solution.png\" width=\"100%\">\n",
    "\n",
    "产品原则：\n",
    "\n",
    "1. 永远不要让 AI 直接生效\n",
    "2. 代替操作和探索,不要代替思考\n",
    "3. 尽量减少 chat\n",
    "4. 直接给结果\n",
    "5. 明确告知这是 Al 的输出\n",
    "6. 收集反馈\n",
    "7. 尊重传统\n"
   ]
  }
 ],
 "metadata": {
  "kernelspec": {
   "display_name": "Python 3 (ipykernel)",
   "language": "python",
   "name": "python3"
  },
  "language_info": {
   "codemirror_mode": {
    "name": "ipython",
    "version": 3
   },
   "file_extension": ".py",
   "mimetype": "text/x-python",
   "name": "python",
   "nbconvert_exporter": "python",
   "pygments_lexer": "ipython3",
   "version": "3.11.4"
  }
 },
 "nbformat": 4,
 "nbformat_minor": 4
}
