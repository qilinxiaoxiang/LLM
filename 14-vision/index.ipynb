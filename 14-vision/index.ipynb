{
 "cells": [
  {
   "cell_type": "markdown",
   "id": "362a50a9",
   "metadata": {},
   "source": [
    "## 课件下载\n",
    "\n",
    "到 https://dl.agiclass.ai 下载  `14-vision.pptx`\n",
    "\n"
   ]
  },
  {
   "cell_type": "markdown",
   "id": "54a108b5-160c-49f6-a920-5fe41d4fe48f",
   "metadata": {},
   "source": [
    "## 实验"
   ]
  },
  {
   "cell_type": "code",
   "execution_count": 2,
   "id": "af4b9730-765a-4abd-9a98-09cd943b4ba9",
   "metadata": {},
   "outputs": [
    {
     "name": "stdout",
     "output_type": "stream",
     "text": [
      "Requirement already satisfied: einops in /opt/conda/lib/python3.11/site-packages (0.7.0)\n",
      "Requirement already satisfied: torchsde in /opt/conda/lib/python3.11/site-packages (0.2.6)\n",
      "Requirement already satisfied: kornia in /opt/conda/lib/python3.11/site-packages (0.7.2)\n",
      "Requirement already satisfied: numpy>=1.19 in /opt/conda/lib/python3.11/site-packages (from torchsde) (1.26.2)\n",
      "Requirement already satisfied: scipy>=1.5 in /opt/conda/lib/python3.11/site-packages (from torchsde) (1.11.4)\n",
      "Requirement already satisfied: torch>=1.6.0 in /opt/conda/lib/python3.11/site-packages (from torchsde) (2.1.2)\n",
      "Requirement already satisfied: trampoline>=0.1.2 in /opt/conda/lib/python3.11/site-packages (from torchsde) (0.1.2)\n",
      "Requirement already satisfied: kornia-rs>=0.1.0 in /opt/conda/lib/python3.11/site-packages (from kornia) (0.1.1)\n",
      "Requirement already satisfied: packaging in /opt/conda/lib/python3.11/site-packages (from kornia) (23.2)\n",
      "Requirement already satisfied: filelock in /opt/conda/lib/python3.11/site-packages (from torch>=1.6.0->torchsde) (3.13.1)\n",
      "Requirement already satisfied: typing-extensions in /opt/conda/lib/python3.11/site-packages (from torch>=1.6.0->torchsde) (4.10.0)\n",
      "Requirement already satisfied: sympy in /opt/conda/lib/python3.11/site-packages (from torch>=1.6.0->torchsde) (1.12)\n",
      "Requirement already satisfied: networkx in /opt/conda/lib/python3.11/site-packages (from torch>=1.6.0->torchsde) (3.2.1)\n",
      "Requirement already satisfied: jinja2 in /opt/conda/lib/python3.11/site-packages (from torch>=1.6.0->torchsde) (3.1.2)\n",
      "Requirement already satisfied: fsspec in /opt/conda/lib/python3.11/site-packages (from torch>=1.6.0->torchsde) (2023.12.2)\n",
      "Requirement already satisfied: nvidia-cuda-nvrtc-cu12==12.1.105 in /opt/conda/lib/python3.11/site-packages (from torch>=1.6.0->torchsde) (12.1.105)\n",
      "Requirement already satisfied: nvidia-cuda-runtime-cu12==12.1.105 in /opt/conda/lib/python3.11/site-packages (from torch>=1.6.0->torchsde) (12.1.105)\n",
      "Requirement already satisfied: nvidia-cuda-cupti-cu12==12.1.105 in /opt/conda/lib/python3.11/site-packages (from torch>=1.6.0->torchsde) (12.1.105)\n",
      "Requirement already satisfied: nvidia-cudnn-cu12==8.9.2.26 in /opt/conda/lib/python3.11/site-packages (from torch>=1.6.0->torchsde) (8.9.2.26)\n",
      "Requirement already satisfied: nvidia-cublas-cu12==12.1.3.1 in /opt/conda/lib/python3.11/site-packages (from torch>=1.6.0->torchsde) (12.1.3.1)\n",
      "Requirement already satisfied: nvidia-cufft-cu12==11.0.2.54 in /opt/conda/lib/python3.11/site-packages (from torch>=1.6.0->torchsde) (11.0.2.54)\n",
      "Requirement already satisfied: nvidia-curand-cu12==10.3.2.106 in /opt/conda/lib/python3.11/site-packages (from torch>=1.6.0->torchsde) (10.3.2.106)\n",
      "Requirement already satisfied: nvidia-cusolver-cu12==11.4.5.107 in /opt/conda/lib/python3.11/site-packages (from torch>=1.6.0->torchsde) (11.4.5.107)\n",
      "Requirement already satisfied: nvidia-cusparse-cu12==12.1.0.106 in /opt/conda/lib/python3.11/site-packages (from torch>=1.6.0->torchsde) (12.1.0.106)\n",
      "Requirement already satisfied: nvidia-nccl-cu12==2.18.1 in /opt/conda/lib/python3.11/site-packages (from torch>=1.6.0->torchsde) (2.18.1)\n",
      "Requirement already satisfied: nvidia-nvtx-cu12==12.1.105 in /opt/conda/lib/python3.11/site-packages (from torch>=1.6.0->torchsde) (12.1.105)\n",
      "Requirement already satisfied: triton==2.1.0 in /opt/conda/lib/python3.11/site-packages (from torch>=1.6.0->torchsde) (2.1.0)\n",
      "Requirement already satisfied: nvidia-nvjitlink-cu12 in /opt/conda/lib/python3.11/site-packages (from nvidia-cusolver-cu12==11.4.5.107->torch>=1.6.0->torchsde) (12.3.101)\n",
      "Requirement already satisfied: MarkupSafe>=2.0 in /opt/conda/lib/python3.11/site-packages (from jinja2->torch>=1.6.0->torchsde) (2.1.3)\n",
      "Requirement already satisfied: mpmath>=0.19 in /opt/conda/lib/python3.11/site-packages (from sympy->torch>=1.6.0->torchsde) (1.3.0)\n"
     ]
    }
   ],
   "source": [
    "!pip install einops torchsde kornia"
   ]
  },
  {
   "cell_type": "code",
   "execution_count": 3,
   "id": "148d86ad-69a8-41eb-9921-322338e54c69",
   "metadata": {},
   "outputs": [
    {
     "name": "stdout",
     "output_type": "stream",
     "text": [
      "\u001b[K\u001b[?25hm##################\u001b[0m) ⠧ reify:axios: \u001b[32;40mtiming\u001b[0m \u001b[35mreifyNode:node_modules/localtunnel/n\u001b[0m\u001b[Kpleted in\u001b[0m\u001b[K\n",
      "changed 22 packages in 380ms\n",
      "\n",
      "3 packages are looking for funding\n",
      "  run `npm fund` for details\n",
      "/bin/bash: line 1: cd: ComfyUI: No such file or directory\n",
      "python: can't open file '/home/jovyan/lecture-notes/13.5 visual content generation/ComfyUI/main.py': [Errno 2] No such file or directory\n"
     ]
    }
   ],
   "source": [
    "!npm install -g localtunnel\n",
    "\n",
    "import subprocess\n",
    "import threading\n",
    "import time\n",
    "import socket\n",
    "import urllib.request\n",
    "\n",
    "def iframe_thread(port):\n",
    "  while True:\n",
    "      time.sleep(0.5)\n",
    "      sock = socket.socket(socket.AF_INET, socket.SOCK_STREAM)\n",
    "      result = sock.connect_ex(('127.0.0.1', port))\n",
    "      if result == 0:\n",
    "        break\n",
    "      sock.close()\n",
    "  print(\"\\nComfyUI finished loading, trying to launch localtunnel (if it gets stuck here localtunnel is having issues)\\n\")\n",
    "\n",
    "  print(\"The password/enpoint ip for localtunnel is:\", urllib.request.urlopen('https://ipv4.icanhazip.com').read().decode('utf8').strip(\"\\n\"))\n",
    "  p = subprocess.Popen([\"lt\", \"--port\", \"{}\".format(port)], stdout=subprocess.PIPE)\n",
    "  for line in p.stdout:\n",
    "    print(line.decode(), end='')\n",
    "\n",
    "\n",
    "threading.Thread(target=iframe_thread, daemon=True, args=(8188,)).start()\n",
    "\n",
    "!cd ComfyUI\n",
    "!python ComfyUI/main.py --dont-print-server --cpu"
   ]
  },
  {
   "cell_type": "code",
   "execution_count": null,
   "id": "43e94e67-f124-499e-93ff-cd09901f0ec9",
   "metadata": {},
   "outputs": [],
   "source": []
  }
 ],
 "metadata": {
  "kernelspec": {
   "display_name": "Python 3 (ipykernel)",
   "language": "python",
   "name": "python3"
  },
  "language_info": {
   "codemirror_mode": {
    "name": "ipython",
    "version": 3
   },
   "file_extension": ".py",
   "mimetype": "text/x-python",
   "name": "python",
   "nbconvert_exporter": "python",
   "pygments_lexer": "ipython3",
   "version": "3.11.4"
  }
 },
 "nbformat": 4,
 "nbformat_minor": 5
}
