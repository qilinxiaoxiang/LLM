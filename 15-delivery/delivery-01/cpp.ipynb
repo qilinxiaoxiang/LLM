{
 "cells": [
  {
   "cell_type": "markdown",
   "metadata": {},
   "source": [
    "## 在个人电脑运行一个大模型\n",
    "\n",
    "#### cpp (c++ c plus plus)\n",
    "\n",
    "- 纯 C/C++ 实现，无需外部依赖。\n",
    "- 针对使用 ARM NEON、Accelerate 和 Metal 框架的 Apple 芯片进行了优化。\n",
    "- 支持适用于 x86 架构的 AVX、AVX2 和 AVX512。\n",
    "- 提供 F16/F32 混合精度，并支持 2 位至 8 位整数量化。\n",
    "\n",
    "参考：https://github.com/li-plus/chatglm.cpp\n",
    "\n",
    "#### 部署 chatglm3\n",
    "\n",
    "```\n",
    "git clone --recursive https://github.com/li-plus/chatglm.cpp.git && cd chatglm.cpp\n",
    "```\n",
    "\n",
    "```\n",
    "git submodule update --init --recursive\n",
    "```\n",
    "\n",
    "#### Quantize Model 量化模型\n",
    "\n",
    "```\n",
    "python3 -m pip install torch tabulate tqdm transformers accelerate sentencepiece\n",
    "```\n",
    "\n",
    "#### 通过 convert 专为 GGML 格式\n",
    "\n",
    "- 用于 convert.py 将 ChatGLM-6B 转换为量化的 GGML 格式。要将 fp16 原始模型转换为 q4_0（量化 int4）GGML 模型，请运行：\n",
    "\n",
    "```\n",
    "python3 chatglm_cpp/convert.py -i THUDM/chatglm3-6b -t q4_0 -o chatglm3-ggml.bin\n",
    "```\n",
    "\n",
    "![convert](./img/convert.png)\n",
    "\n",
    "#### 在命令行启动服务\n",
    "\n",
    "##### 第一步：使用 CMake 配置项目并在当前目录下创建一个名为 \"build\" 的构建目录\n",
    "\n",
    "```\n",
    "cmake -B build\n",
    "```\n",
    "\n",
    "##### 第二步：使用先前生成的构建系统文件在构建目录 \"build\" 中构建项目，采用并行构建和 Release 配置\n",
    "\n",
    "```\n",
    "cmake --build build -j --config Release\n",
    "```\n",
    "\n",
    "##### 第三步：运行\n",
    "\n",
    "```\n",
    "./build/bin/main -m chatglm3-ggml.bin -p 你好\n",
    "```\n",
    "\n",
    "![result](./img/chat-result.png)\n",
    "\n",
    "#### 启动 web 服务\n",
    "\n",
    "```\n",
    "python3 ./examples/web_demo.py -m chatglm3-ggml.bin\n",
    "```\n",
    "\n",
    "![](./img/cpp-web-serve.png)\n"
   ]
  },
  {
   "cell_type": "markdown",
   "metadata": {},
   "source": [
    "## 更多模型参考\n",
    "\n",
    "\n",
    "[llama cpp](https://github.com/ggerganov/llama.cpp)"
   ]
  }
 ],
 "metadata": {
  "kernelspec": {
   "display_name": "Python 3 (ipykernel)",
   "language": "python",
   "name": "python3"
  },
  "language_info": {
   "codemirror_mode": {
    "name": "ipython",
    "version": 3
   },
   "file_extension": ".py",
   "mimetype": "text/x-python",
   "name": "python",
   "nbconvert_exporter": "python",
   "pygments_lexer": "ipython3",
   "version": "3.11.4"
  }
 },
 "nbformat": 4,
 "nbformat_minor": 4
}
