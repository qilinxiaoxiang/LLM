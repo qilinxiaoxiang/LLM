{
 "cells": [
  {
   "cell_type": "markdown",
   "id": "73f44ec6-e8c5-40d4-a11c-1b0747f90242",
   "metadata": {},
   "source": [
    "# 从 AI 编程认知 AI\n"
   ]
  },
  {
   "cell_type": "markdown",
   "id": "91907569-da5b-48f8-8f3e-6a8df67bb26a",
   "metadata": {},
   "source": [
    "## 💡 这节课会带给你\n"
   ]
  },
  {
   "cell_type": "markdown",
   "id": "ff15586f-b2e0-4c35-93c8-1d77e58b9f63",
   "metadata": {},
   "source": [
    "1. 所有人：通过 AI 编程，洞察 AI 的能力本质\n",
    "1. 编程新手：掌握十倍提升学习、编码效率的工具\n",
    "1. 编程老手：了解 AI 编程的原理，触类旁通其它应用场景\n"
   ]
  },
  {
   "cell_type": "markdown",
   "id": "0b9e13a6-0cb2-4511-83b9-71bc80aa0c11",
   "metadata": {},
   "source": [
    "开始上课！\n"
   ]
  },
  {
   "cell_type": "markdown",
   "id": "85ac5ad6-48df-4a45-b916-ad7d066b69da",
   "metadata": {},
   "source": [
    "## 认知 AI 最好的方式，是天天用\n",
    "\n",
    "问自己两个问题：\n",
    "\n",
    "1. 我时间都消耗在哪里？\n",
    "2. 怎么让 AI 帮我省时间？\n",
    "\n",
    "个人解读\n",
    "\n",
    "- 工作：凡是进行**重复脑力**的劳动都可以 AI 化\n",
    "\n",
    "<div class=\"alert alert-success\">\n",
    "<b>划重点：</b>凡是「输入和输出都是文本」的场景，都值得尝试用大模型提效。\n",
    "</div>\n"
   ]
  },
  {
   "cell_type": "markdown",
   "id": "7b8147b5-8673-414a-b16f-044a2855de67",
   "metadata": {},
   "source": [
    "先来看两个例子\n",
    "\n",
    "- AI 编程提效案例一：\n",
    "\n",
    "<img src=\"ai-helper.png\" width=\"400\" />\n",
    "\n",
    "- AI 编程提效案例二：\n",
    "\n",
    "<img src=\"calculator.webp\" width=\"400\"/>\n",
    "\n",
    "一期产品匠人管子 [编程小白的逆袭：借助 AI 打造第一个独立编程项目](https://mp.weixin.qq.com/s/rLlx8yuahQdSbHLNITXSFA)\n"
   ]
  },
  {
   "cell_type": "markdown",
   "id": "0045ee1f-ba4e-429b-afca-61769b5319f7",
   "metadata": {},
   "source": [
    "### 场景\n",
    "\n",
    "其中在软件开发过程中，已验证能明确提效的场景：\n",
    "\n",
    "- 市场调研\n",
    "- 需求分析\n",
    "- PRD 撰写\n",
    "- 图形元素绘制\n",
    "- 技术选型\n",
    "- 从需求文本生成代码\n",
    "- 代码审查\n",
    "- 编写测试用例\n",
    "- 运维\n",
    "- 产品：写用户故事\n",
    "- <strong>从设计图生成代码</strong>\n",
    "- <strong>API 文档调用</strong>\n",
    "- <strong>协议解析</strong>\n",
    "- <strong>跨语言迁移</strong> 两周的时间，2 个同事将一个 40 个 API 接口的 go 工程迁移成一个 java 工程\n",
    "\n",
    "方法可以简化成一句话：**用 ChatGPT4** 。\n"
   ]
  },
  {
   "cell_type": "markdown",
   "id": "5c186518-9a43-4cc2-a61f-8aee20b2c054",
   "metadata": {},
   "source": [
    "除了软件开发编程的过程，还能显著提效的场景：撰写标书、营销文案、宣传图片、LOGO、商标等等周边场景\n"
   ]
  },
  {
   "cell_type": "markdown",
   "id": "a75ef215-59bd-4752-9f35-e435cbf2a407",
   "metadata": {},
   "source": [
    "### 使用技巧\n",
    "\n",
    "- 所有 prompt engineering 的技巧都有效，可以把代码、错误信息直接粘贴进去\n",
    "- 任何技术相关的问题都可以问，比自己搜索效率高很多\n",
    "- 注意每次问答窗口的大小，ChatGPT 是 4K\n",
    "\n",
    "参考：ChatALL 大量依赖 GPT-4。过程实录：https://chat.openai.com/share/ecfafa99-aaad-4432-a40c-81c261376758 （对话轮次非常多加载慢，所以几乎总是 404）。如果打不开，别到群里问题，看[这个图](gpt-4-chatall.png)吧\n",
    "\n",
    "但是，落到**写代码**这件事，还有更好的工具。\n"
   ]
  },
  {
   "cell_type": "markdown",
   "id": "bdf1bbda-6180-4aaa-ade2-da50e6c85bc5",
   "metadata": {},
   "source": [
    "<div class=\"alert alert-success\">\n",
    "<b>划重点：</b>AI 应用场景多，但落到应用，需要打点！\n",
    "</div>\n"
   ]
  },
  {
   "cell_type": "markdown",
   "id": "c011ecda-974b-46ec-8228-f86bb32d438f",
   "metadata": {},
   "source": [
    "### 通过 GitHub Copilot 案例认知 AI\n",
    "\n",
    "<img src=\"./business_arch.webp\" style=\"margin-left: 0px\" width=700px>\n",
    "\n",
    "<div class=\"alert alert-warning\">\n",
    "<b>容易混淆的概念</b>\n",
    "<ul>\n",
    "    <li>Microsoft Copilot： 微软的一系列产品，从操作系统到Bing搜索</li> \n",
    "    <li>GitHub Copilot： GitHub 平台和 OpenAI 合作的编程助手</li>\n",
    "    <li>AI Copilot：产品范式</li>\n",
    "</ul>\n",
    "</div>\n"
   ]
  },
  {
   "cell_type": "markdown",
   "id": "c6e84bf8-5b66-4979-88a2-646732b1fcb2",
   "metadata": {},
   "source": [
    "## 如何理解 AI 能编写程序\n",
    "\n",
    "**编程能力是大模型各项能力的天花板**\n",
    "\n",
    "- 「编程」是目前大模型能力最强的垂直领域，甚至超越了对「自然语言」本身的处理能力。因为：\n",
    "\n",
    "  - 训练数据质量高\n",
    "  - 结果可衡量\n",
    "  - 编程语言无二义性\n",
    "  - 有[论文](https://arxiv.org/pdf/2211.09110.pdf)证明编程训练能增强模型的推理能力，所以会特别着意训练 (code-davinci002)\n",
    "    - “The first model that OpenAI gave us was a Python-only model,” Ziegler remembers. “Next we were delivered a JavaScript model and a multilingual model, and it turned out that the Javascript model had particular problems that the multilingual model did not. It actually came as a surprise to us that the multilingual model could perform so well. But each time, the models were just getting better and better, which was really exciting for GitHub Copilot’s progress.” --[Inside GitHub: Working with the LLMs behind GitHub Copilot](https://github.blog/2023-05-17-inside-github-working-with-the-llms-behind-github-copilot/)\n"
   ]
  },
  {
   "cell_type": "markdown",
   "id": "f604f942-b8ef-49d0-ad93-5625ed9c4fc2",
   "metadata": {},
   "source": [
    "- 知道怎么用好 AI 编程，了解它的能力边界、使用场景，就能类比出在其他领域 AI 怎么落地，能力上限在哪\n",
    "  - 此观点是我们原创，在分享过数次后，GitHub 官方发了一篇文章：[How to build an enterprise LLM application: Lessons from GitHub Copilot](https://github.blog/2023-09-06-how-to-build-an-enterprise-llm-application-lessons-from-github-copilot/)。当然，这只是巧合。(这篇文章描述了 GitHub Copilot 的产品打造哲学，非常推荐。)\n"
   ]
  },
  {
   "cell_type": "markdown",
   "id": "8e89ef7b-2c1f-43d7-9041-de6ffe851e86",
   "metadata": {},
   "source": [
    "所以：\n",
    "\n",
    "<div class=\"alert alert-success\">\n",
    "<b>划重点：</b>使用 AI 编程，除了解决编程问题以外，更重要是形成对 AI 的正确认知。其中，数据质量决定 Copilot 的质量。\n",
    "</div>\n"
   ]
  },
  {
   "cell_type": "markdown",
   "id": "4e83c109-6111-46b4-9273-78656143696d",
   "metadata": {},
   "source": [
    "## GitHub Copilot 介绍\n",
    "\n",
    "[GitHub Copilot](https://github.com/features/copilot) 创造了一个奇迹：\n",
    "\n",
    "**所有竞争对手（Amazon、Google、Meta、腾讯等）都是免费的，每月 10-20 美元的它仍市占率最高。**\n",
    "\n",
    "不使用它只有一个理由：保密自己的代码。\n",
    "\n",
    "这是一个能提升**幸福感**的工具，随时都有 Aha! 时刻。\n",
    "\n",
    "几个事实：\n",
    "\n",
    "- 2021 年 6 月上线，比 ChatGPT 早近一年半\n",
    "- GitHub 统计：\n",
    "  - 88% 的用户获得效率提升\n",
    "  - 平均 46% 的代码由它完成\n",
    "  - 平均效率提升 55%（网易内部统计 38%，根据需求燃尽图和速度统计得知）\n",
    "- AGI 课堂调研试用到付费转化率：69%\n",
    "- 个人版 10 美元/月，商业版 19 美元/月，企业版 39 美元/月 （打通你的 GitHub 代码库 [Copilot Plan](https://github.com/features/copilot/plans))\n"
   ]
  },
  {
   "cell_type": "markdown",
   "id": "fd6e3dcd-b117-4b1b-b26b-0e248b5262c5",
   "metadata": {},
   "source": [
    "### 安装\n",
    "\n",
    "1. 首先，需要有 GitHub 账号\n",
    "2. 然后，到 https://github.com/settings/copilot 启用\n",
    "3. 最后，安装 IDE 插件，比如\n",
    "   - VSCode: https://marketplace.visualstudio.com/items?itemName=GitHub.copilot\n",
    "   - PyCharm: https://plugins.jetbrains.com/plugin/17718-github-copilot\n",
    "   - Xcode : https://github.com/intitni/CopilotForXcode\n",
    "\n",
    "注意：要全局科学上网才能正常使用\n"
   ]
  },
  {
   "cell_type": "markdown",
   "id": "9f027032-9249-4081-8b60-5f0a69e198f4",
   "metadata": {},
   "source": [
    "### 刷刷写代码\n",
    "\n",
    "Copilot 的使用其实不需要学习……正常写代码，就会收获不断的惊喜。\n",
    "\n",
    "它根据上下文，自动生成建议代码。如果觉得合适，按下 tab 就行了。比如：\n",
    "\n",
    "<div class=\"alert alert-success\">\n",
    "<b>划重点：</b>让AI在不影响用户原有工作习惯的情况下切入使用场景，形成Ah瞬间。 \n",
    "</div>\n"
   ]
  },
  {
   "cell_type": "markdown",
   "id": "8b89c5ff-9e27-45e7-a841-ce18d35a1b97",
   "metadata": {
    "jp-MarkdownHeadingCollapsed": true
   },
   "source": [
    "#### 完成整个函数\n",
    "\n",
    "![SQL](sql.gif)\n"
   ]
  },
  {
   "cell_type": "markdown",
   "id": "b87ef13d-6c0a-4f3c-bae6-ede5d94c636a",
   "metadata": {},
   "source": [
    "#### 写测试用例\n",
    "\n",
    "![testcase](testcase.gif)\n"
   ]
  },
  {
   "cell_type": "markdown",
   "id": "ae6bd641-1185-4dee-aa0a-2b7bd0610b14",
   "metadata": {},
   "source": [
    "#### 根据注释写代码\n",
    "\n",
    "![comment](comments2code.gif)\n",
    "\n",
    "但这种用法不太推荐，因为注释里针对 AI 而写的 prompt，并不适合人类阅读。\n",
    "\n",
    "如果想从需求生成代码，更推荐后面介绍的「Copilot Chat」 或者直接使用 GPT4 问答\n"
   ]
  },
  {
   "cell_type": "markdown",
   "id": "c2d1f92f-d5a1-4448-a59d-1cf19468fd3d",
   "metadata": {},
   "source": [
    "#### 一些技巧\n",
    "\n",
    "1. 代码有了，再写注释，更省力\n",
    "2. 改写当前代码，可另起一块新写，AI 补全得更准，完成后再删旧代码\n",
    "3. `Cmd/Ctrl + →` 只接受一个 token\n",
    "4. 如果有旧代码希望被参考，就把代码文件在新 tab 页里打开\n"
   ]
  },
  {
   "cell_type": "markdown",
   "id": "fbe3eab0-97eb-4c0f-b14b-b7f0a4b4460b",
   "metadata": {},
   "source": [
    "### GitHub Copilot Chat\n",
    "\n",
    "已经更新\n",
    "\n",
    "- 一个独立插件\n",
    "- 安装地址：https://marketplace.visualstudio.com/items?itemName=GitHub.copilot-chat\n",
    "- 背后是 GPT-4 Turbo\n",
    "\n",
    "官方使用演示：修复一个函数的 Bug\n",
    "\n",
    "<video src=\"Copilot-Chat-Debug-Blog.mp4\" controls=\"controls\" width=\"100%\" height=\"auto\" preload=\"none\"></video>\n",
    "\n",
    "敲「/」可以看到特殊指令：\n",
    "\n",
    "<img src=\"chat-slash.png\" width=\"600px\">\n",
    "\n",
    "VS 中选中要操作的代码，或者光标停留在想插入代码的地方，按 `Cmd/Ctrl + i`，可以内嵌呼出 Copilot chat：\n",
    "\n",
    "<video src=\"CopilotChatVSInlineRefinement.mp4\" controls=\"controls\" width=\"100%\" height=\"auto\" preload=\"none\"></video>\n"
   ]
  },
  {
   "cell_type": "markdown",
   "id": "a878b90e-0753-4289-8190-bb925195e5bf",
   "metadata": {},
   "source": []
  },
  {
   "cell_type": "markdown",
   "id": "f450c498-1bc1-4dc9-8d4e-27e377d2d9c1",
   "metadata": {},
   "source": [
    "### 命令行的 Copilot\n",
    "\n",
    "先要安装 GitHub CLI：https://cli.github.com/\n",
    "\n",
    "然后：\n",
    "\n",
    "```bash\n",
    "gh copilot suggest 怎样把 python 的 openai 库升级到最新\n",
    "gh copilot explain \"rm -rf /*\"\n",
    "```\n",
    "\n",
    "### 生成 git commit message\n",
    "\n",
    "入口自己找吧……\n"
   ]
  },
  {
   "cell_type": "markdown",
   "id": "f13e65c7-27ac-4a7d-a7ec-f7bfb52e7279",
   "metadata": {},
   "source": [
    "### 一些其他的使用方式\n",
    "\n",
    "1. Run terminal commands from GitHub Copilot Chat\n",
    "2. Write pull request summaries (Copilot Enterprise feature only)\n",
    "3. Generate commit messages\n",
    "   ...\n",
    "\n",
    "[1] [10 unexpected ways to use GitHub Copilot](https://github.blog/2024-01-22-10-unexpected-ways-to-use-github-copilot/)\n"
   ]
  },
  {
   "cell_type": "markdown",
   "id": "237ea245-8b42-4ea0-a2c8-9fcca8157bb0",
   "metadata": {},
   "source": [
    "### 故事线\n",
    "\n",
    "- 一个小转折：从最开始的只用问答，到取消问答使用补全，到恢复问答。\n",
    "\n",
    "<div class=\"alert alert-success\">\n",
    "<b>划重点：</b> 在不改变用户的习惯下性能粘性，然后再从单点功能到多点覆盖\n",
    "</div>\n"
   ]
  },
  {
   "cell_type": "markdown",
   "id": "712e40cd-4a97-4519-86c0-ef2f8cabeb88",
   "metadata": {},
   "source": [
    "## GitHub Copilot 基本原理\n"
   ]
  },
  {
   "cell_type": "markdown",
   "id": "d7bd58b0-32e5-457d-a449-a987cd0b91b8",
   "metadata": {},
   "source": [
    "### 工作原理\n",
    "\n",
    "- 模型层：最初使用 OpenAI Codex 模型，它也是 GPT-3.5、GPT-4 的「一部分」。[现在已经完全升级，模型细节未知](https://github.blog/2023-07-28-smarter-more-efficient-coding-github-copilot-goes-beyond-codex-with-improved-ai-model/)。\n",
    "\n",
    "- 应用层： prompt engineering。Prompt 中包含：\n",
    "\n",
    "  1. 组织上下文：光标前和光标后的代码片段\n",
    "  1. 获取代码片段：其它相关代码片段。当前文件和其它打开的 tab 里的代码被切成每个 60 行的片段，用 [Jaccard 相似度](https://zh.wikipedia.org/wiki/%E9%9B%85%E5%8D%A1%E5%B0%94%E6%8C%87%E6%95%B0)评分，取高分的\n",
    "     - 为什么是打开的 tabs\n",
    "     - 多少个 tabs 是有效的呢？\n",
    "  1. 修饰相关上下文：被取用的代码片段的路径。用注释的方式插入，例如：`# filepath: foo/bar.py`，或者 `// filepath: foo.bar.js`\n",
    "  1. 优先级：根据一些代码常识判断补全输入内容的优先级\n",
    "  1. 补全格式：在函数定义、类定义、if-else 等之后，会补全整段代码，其它时候只补全当前行\n",
    "\n",
    "  <img src=\"copilot_snippet_structure.webp\" width=\"100%\">\n",
    "\n",
    "- 数据流\n",
    "  ![completion](life-of-a-completion.webp)\n",
    "\n",
    "- 有效性：\n",
    "\n",
    "  - Telemetry(远程遥测[如何取消](https://docs.github.com/en/site-policy/privacy-policies/github-general-privacy-statement))\n",
    "\n",
    "  - A/B Test\n",
    "\n",
    "### 了解更多\n",
    "\n",
    "- [Inside GitHub: Working with the LLMs behind GitHub Copilot](https://github.blog/2023-05-17-inside-github-working-with-the-llms-behind-github-copilot/)\n",
    "- [How GitHub Copilot is getting better at understanding your code](https://github.blog/2023-05-17-how-github-copilot-is-getting-better-at-understanding-your-code/)\n",
    "- [A developer’s guide to prompt engineering and LLMs](https://github.blog/2023-07-17-prompt-engineering-guide-generative-ai-llms/)\n",
    "- [GitHub Copilot VSCode Extension 逆向工程](https://zhuanlan.zhihu.com/p/639993637)\n",
    "- [GitHub Copilot 深度剖析](https://xie.infoq.cn/article/06aabd93dc757a1015def6857)\n"
   ]
  },
  {
   "cell_type": "markdown",
   "id": "03b8620c-f786-4a5f-abe1-f871d1bcd74b",
   "metadata": {
    "jp-MarkdownHeadingCollapsed": true
   },
   "source": [
    "<div class=\"alert alert-success\">\n",
    "<b>划重点</b>\n",
    "<ul>\n",
    "    <li>完整的产品研发思维框架很重要 —— Find-Nail-Scale </li>\n",
    "    <li>产品有效性的验证方法</li>\n",
    "</ul>\n",
    "</div>\n"
   ]
  },
  {
   "cell_type": "markdown",
   "id": "1e5a1dd8-ffc8-4d6e-bc7d-3efedd0cef90",
   "metadata": {},
   "source": [
    "## 市面上有哪些工具\n",
    "\n",
    "1. [Bito](https://bito.ai/) - 比 Copilot 还多些创新\n",
    "2. [DevChat](https://www.devchat.ai/) -- 前端开源，同时卖 GPT 服务\n",
    "3. [Cursor](https://www.cursor.so/) - AI first 的 IDE。\n",
    "4. [Tabnine](https://www.tabnine.com/) - 代码补全，个人基础版免费\n",
    "5. [Tongyi Lingma](https://tongyi.aliyun.com/lingma) -- 代码补全，免费。阿里云相关。\n",
    "6. [CodeGeex](https://codegeex.cn/) -- 清华智谱 CodeGeex3Pro 免费可用\n",
    "7. [Comate](https://comate.baidu.com/zh) -- 百度有免费试用版\n",
    "8. [Amazon CodeWhisperer](https://aws.amazon.com/codewhisperer/) - 代码补全，免费。AWS 相关的编程能力卓越。其它凑合\n"
   ]
  },
  {
   "cell_type": "markdown",
   "id": "42f07993-0ba1-4de7-90bd-c485aeed01c6",
   "metadata": {},
   "source": [
    "## AI 编程有效性度量\n",
    "\n",
    "### 网易\n",
    "\n",
    "- 通过项目完成量和完成度统计\n",
    "- 燃尽图\n",
    "\n",
    "<img src=\"project_finished.png\" width=\"400\">\n",
    "\n",
    "### DevChat\n",
    "\n",
    "<img src=\"info_collection.png\" width=\"400\"></img>\n",
    "\n",
    "<div class=\"alert alert-success\">\n",
    "<b>划重点</b>\n",
    "<ul>\n",
    "    <li>产品落地要有完整的闭环：给客户提供可量化的工具</li>\n",
    "</ul>\n",
    "</div>\n"
   ]
  },
  {
   "cell_type": "markdown",
   "id": "99778e64-5697-4815-a41f-2bbfc0355b50",
   "metadata": {
    "jp-MarkdownHeadingCollapsed": true
   },
   "source": [
    "## 如何自建自己的 AI 编程工具\n",
    "\n",
    "### 可本机部署的 Tabby\n",
    "\n",
    "Tabby：https://tabby.tabbyml.com/\n",
    "\n",
    "- 全开源\n",
    "- 可以本机部署，也可以独立本地部署\n",
    "- 支持所有开源编程模型\n",
    "\n",
    "### 更多开源编程大模型\n",
    "\n",
    "1. [Code Llama](https://ai.meta.com/blog/code-llama-large-language-model-coding/) - Meta 出品，可能是开源中最强的 （7B，13B, 34B, 70B)\n",
    "2. [DeepSeek-Coder](https://github.com/deepseek-ai/DeepSeek-Coder) - 从 1B 到 33B 都有\n",
    "3. 💡[CodeGemma](https://huggingface.co/blog/codegemma) - Google 出品，上周才出炉\n",
    "4. [姜子牙 Ziya-Coding-15B-v1](https://huggingface.co/IDEA-CCNL/Ziya-Coding-15B-v1) - 深圳 IDEA 研究院出品\n",
    "5. [CodeFuse-CodeLlama-34B](https://huggingface.co/codefuse-ai/CodeFuse-CodeLlama-34B) - 阿里出品\n",
    "6. [WizardCoder](https://github.com/nlpxucan/WizardLM) - WizardLM 出品\n"
   ]
  },
  {
   "cell_type": "markdown",
   "id": "0c4dcbcb-20e6-4786-8480-d7b49a337bc9",
   "metadata": {},
   "source": [
    "## AI 编程的 Agent 尝试——一些自动编写代码的机器人\n",
    "\n",
    "编程 Agents\n",
    "前面的工具都是帮你编程，而 Agent 是完全代替你编程。甚至能做更多……\n",
    "\n",
    "警告：以下介绍的现在都只能玩玩，做技术探讨，还远没到实用的程度。\n"
   ]
  },
  {
   "cell_type": "markdown",
   "id": "8803a247-2082-4763-b8ba-fda0442a5f76",
   "metadata": {},
   "source": [
    "### MetaGPT：多智能体元编程框架\n",
    "\n",
    "https://github.com/geekan/MetaGPT\n",
    "\n",
    "它不只写代码，而且写文档、画图。详见讲座课里 MetaGPT 核心工程师的分享。\n",
    "\n",
    "核心 prompts：https://github.com/geekan/MetaGPT/tree/main/metagpt/prompts\n",
    "\n",
    "评价：\n",
    "\n",
    "- 让 agent 模拟岗位这个思路挺有意思。未来的公司就是人和 agent 混合的，这样的系统架构更匹配公司治理\n",
    "- 所以 MetaGPT 其实是个多 Agent 开发框架，而不是单纯的编程工具\n"
   ]
  },
  {
   "cell_type": "markdown",
   "id": "6ec74f0b-016c-4676-a4e2-abd33a30d7da",
   "metadata": {},
   "source": [
    "### GPT Engineer\n",
    "\n",
    "https://github.com/AntonOsika/gpt-engineer\n",
    "\n",
    "指定您想要它构建的内容，AI 会要求澄清，然后构建它。\n",
    "\n",
    "只需三步操作：\n",
    "\n",
    "```bash\n",
    "pip install gpt-engineer\n",
    "vim prompt\n",
    "gpt-engineer .\n",
    "```\n",
    "\n",
    "核心 prompts：https://github.com/AntonOsika/gpt-engineer/tree/main/gpt_engineer/preprompts\n",
    "\n",
    "一句话评价：什么都能干，所以还什么都干不好。\n",
    "\n",
    "有个专门开发 Web App 的，可用性好一些：https://gptengineer.app/\n"
   ]
  },
  {
   "cell_type": "markdown",
   "id": "17209fb5-8b31-4ceb-9015-086d59f82a9e",
   "metadata": {},
   "source": [
    "### MAGE - GPT Web App Generator\n",
    "\n",
    "主页：https://usemage.ai/\n",
    "\n",
    "源代码：https://github.com/wasp-lang/wasp\n",
    "\n",
    "用 Wasp, React, Node.js 和 Prisma 生成全栈 Web 应用程序。\n",
    "\n",
    "纯在线操作，跟着提示下载到本地执行。\n",
    "\n",
    "核心 prompts：https://github.com/wasp-lang/wasp/blob/main/waspc/src/Wasp/AI/GenerateNewProject/Operation.hs\n",
    "\n",
    "一句话评价：限定了技术栈，用参数做配置，提供框架代码，成品率更高。各种框架都该效仿。\n"
   ]
  },
  {
   "cell_type": "markdown",
   "id": "68611a3b-83b7-4ad4-9b15-f407cae2a0ac",
   "metadata": {},
   "source": [
    "### Devin\n",
    "\n",
    "主页：https://www.cognition-labs.com/introducing-devin\n",
    "\n",
    "一句话评价：还在内测，存在争议\n"
   ]
  },
  {
   "cell_type": "markdown",
   "id": "5a982cda-072d-4491-a39b-5655c5ff01c0",
   "metadata": {},
   "source": [
    "### Agent 的落地难题\n",
    "\n",
    "<div class=\"alert alert-success\">\n",
    "Agent 落地需要两个条件：\n",
    "<ol>\n",
    "<li>LLM 能力足够强</li>\n",
    "<li>使用场景足够窄</li>\n",
    "</ol>\n",
    "</div>\n",
    "\n",
    "用「把 AI 当人看」来理解：\n",
    "\n",
    "1. 人的能力足够强，可以解决更复杂问题\n",
    "2. 但人不可能在所有方面都是专家\n",
    "3. 细分领域越窄，人越可能成为专家\n"
   ]
  },
  {
   "cell_type": "markdown",
   "id": "0d6aa2b0-8941-457e-a1f1-9e8e825d468d",
   "metadata": {},
   "source": [
    "## AI 编程的效能\n"
   ]
  },
  {
   "cell_type": "markdown",
   "id": "be6ed3c6-e73a-470e-9d81-3b07e2252053",
   "metadata": {},
   "source": [
    "### AI 幻觉的必然性，和 AI 能力的天花板\n",
    "\n",
    "AI 祖师爷阿兰·图灵 1947 年在[伦敦数学学会的演讲](https://www.vordenker.de/downloads/turing-vorlesung.pdf)上说过：\n",
    "\n",
    "> ...if a machine is expected to be infallible, it cannot also be intelligent.\n",
    "\n",
    "翻译成中文是：\n",
    "\n",
    "> 如果一个机器绝对不会犯错，它就不可能是智能的。\n",
    "\n",
    "拥有类人的智能，就一定和人类一样，说胡话、瞎话、错话，说有争议的话。\n",
    "\n",
    "所以，AI 的幻觉不可完全消除，只能尽可能压制。\n",
    "\n",
    "所以，使用者的判断力，决定了 AI 能力的上限。 就像团队领导，是团队的上限一样。\n",
    "\n",
    "我们原创了两个定律：\n",
    "\n",
    "<div class=\"alert alert-success\">\n",
    "<h4>AI 能力定律：</h4>\n",
    "<p>AI 能力的上限，是使用者的判断力</p>\n",
    "<p>$\\text{AI 能力} = \\min(\\text{AI 能力}, \\text{使用者判断力})$ </p>\n",
    "<h4>AI 提效定律：</h4>\n",
    "<p>AI 提升的效率，与使用者的判断力成正比，与生产力成反比</p>\n",
    "<p>$\\text{效率提升幅度} = \\frac{\\text{使用者判断力}}{\\text{使用者生产力}}$</p>\n",
    "</div>\n",
    "\n",
    "解读：\n",
    "\n",
    "1. 使用者的判断力，是最重要的\n",
    "2. 提升判断力，比提升实操能力更重要。所谓「眼高手低」者的福音\n",
    "3. 广阔的视野是判断力的养料\n"
   ]
  },
  {
   "cell_type": "markdown",
   "id": "6b60fe9c-ec91-4006-b35f-d6e508f42747",
   "metadata": {},
   "source": [
    "## AI 编程的一些干扰\n",
    "\n",
    "### 公司推动使用\n",
    "\n",
    "1. 先养成提问的习惯\n",
    "2. 提供基本的编程认知：AI 编程不是神，AI 编程是一个结对编程的小伙伴。\n",
    "3. 购买好账号，让团队都能使用\n",
    "4. 真的使用起来\n"
   ]
  },
  {
   "cell_type": "markdown",
   "id": "72efd9e6-9247-4265-818d-fad6b851fbf3",
   "metadata": {},
   "source": [
    "##### 可能得声音：\n",
    "\n",
    "- AI 提示给我的代码，如果我完全按照他的写就死了...（参考：AI 效能定律）\n",
    "- AI 也就写写简单的函数，没法完成复杂的架构... (参考: 金字塔架构解析)\n",
    "  - 先以架构师的身份，让 AI 辅助你对对架构进行选型： 通过需求文档和业务文档，让 AI 给出架构的建议\n",
    "  - 然后以开发者的身份，让 AI 辅助你写业务代码 （逐层拆分向下写)\n",
    "- 我觉得 AI 怎么都不对（参考 Google）\n"
   ]
  },
  {
   "cell_type": "markdown",
   "id": "eb1f9dd7-1b17-462c-a523-d5cbf6a3fb1f",
   "metadata": {},
   "source": [
    "### 使用 AI 编程需要的注意事项\n"
   ]
  },
  {
   "cell_type": "markdown",
   "id": "43b44750-1348-4bca-9804-f501d25f28e5",
   "metadata": {},
   "source": [
    "#### AI 编程貌似严谨实则疏漏的代码\n"
   ]
  },
  {
   "cell_type": "markdown",
   "id": "b5b4ecbd-c573-40e7-ad6c-229c2f6bdda1",
   "metadata": {},
   "source": [
    "> 请写一个判断输入是否为合法手机号的 JavaScript 正则代码\n"
   ]
  },
  {
   "cell_type": "markdown",
   "id": "2506169f-0a49-436a-967e-678a29d13061",
   "metadata": {},
   "source": [
    "```javascript\n",
    "function isValidPhoneNumber(phoneNumber) {\n",
    "  // 中国大陆的手机号码正则表达式，匹配以1开头，第二位是3-9中的任意一个数字，后面跟着9个数字的模式\n",
    "  const regex = /^1[3-9]\\d{9}$/;\n",
    "  return regex.test(phoneNumber);\n",
    "}\n",
    "\n",
    "// 测试示例\n",
    "console.log(isValidPhoneNumber(\"13800138000\")); // 应该返回 true\n",
    "console.log(isValidPhoneNumber(\"12345678901\")); // 应该返回 false\n",
    "console.log(isValidPhoneNumber(\"14123456780\")); // 应该返回 true  !!!!!\n",
    "```\n"
   ]
  },
  {
   "cell_type": "markdown",
   "id": "282bcb7d-98ca-4cd6-9af1-82dceccd37c8",
   "metadata": {},
   "source": [
    "### 行业上一些报告\n",
    "\n",
    "[分析了 1.5 亿行代码发现：AI 编程助手降低代码质量](https://www.oschina.net/news/277025/coding-on-copilot-2024-developer-research)\n",
    "\n",
    "1. 随着 AI 的普及，代码的变更率在提升（变更率是指：今天提交，两周内要修改掉）\n",
    "2. 生产部署后回退的数量的所谓生产事件数量也在提升；\n",
    "3. 那些本不应该写的代码，AI 给你提示写了，给阅读的人带来了时间浪费，也是一个问题。\n"
   ]
  },
  {
   "cell_type": "markdown",
   "id": "9d82d39c-0603-4d3b-a882-fddd08bd736f",
   "metadata": {},
   "source": [
    "### 趋势\n",
    "\n",
    "[Atom Capital: 1000x 的超级码农——AI 编程的机会和未来\n",
    "](https://mp.weixin.qq.com/s/IE1P-USAJDlbPcssJltNnw)\n",
    "\n",
    "> 在 RAG 方向上建立技术优势，然后转换成更好的产品效果和体验，也成为了一个重要的竞争点。RAG 本身有很高的技术复杂度，而代码领域的 RAG 可能是所有应用领域中最复杂的，会有很多有挑战的子场景需要解决。即使是市占率很高的 GitHub，也很难短时间把大部分问题解决掉，这便给了创业公司机会。\n",
    "\n",
    "AI 编程不仅可以解决自己的问题，内部企业的问题，也是一个巨大的市场。\n",
    "\n",
    "<img src=\"ai-is-eating-the-world.png\" width=\"80%\" height=\"80%\" >\n"
   ]
  },
  {
   "cell_type": "markdown",
   "id": "e7d050f5-8d98-4ed1-bdb7-dbe03d68bd6e",
   "metadata": {},
   "source": [
    "<div class=\"alert alert-success\">\n",
    "<b>划重点</b> 新工具的引入，可能会有一些负面的因素要考虑，需要有足够的信心和耐心去应对。\n",
    "</div>\n"
   ]
  },
  {
   "cell_type": "markdown",
   "id": "a3d80295-688c-4461-8713-a09937460b15",
   "metadata": {},
   "source": [
    "## 一些 AI 编程的应用实例\n",
    "\n",
    "#### 从设计图生成代码\n",
    "\n",
    "<img src=\"example-ui-programing-with-gpt.png\" width=\"400\" />\n",
    "<img src=\"example-ui-programing-with-gpt-2.png\" width=\"400\"  />\n",
    "\n",
    "- 拐爷的实验 [从 DALL-E 3 接入 ChatGPT 说起](https://mp.weixin.qq.com/s/a1rLZyAS-L-zf9T3Islq4g)\n",
    "\n",
    "#### API 文档调用\n",
    "\n",
    "<img src=\"example-api-programing-with-gpt.png\" width=\"400\" />\n",
    "\n",
    "```java\n",
    "import org.java_websocket.client.WebSocketClient;\n",
    "import org.java_websocket.handshake.ServerHandshake;\n",
    "\n",
    "import java.net.URI;\n",
    "import java.net.URISyntaxException;\n",
    "\n",
    "public class BinanceWebSocketClient {\n",
    "\n",
    "    public static void main(String[] args) {\n",
    "        try {\n",
    "            // 创建WebSocket客户端，连接到Binance US的WebSocket服务器\n",
    "            // 此例子中使用BTC/USD交易对的深度快照数据流\n",
    "            String marketSymbol = \"btcusd\"; // 这里可以根据需要订阅不同的交易对\n",
    "            WebSocketClient client = new WebSocketClient(new URI(\"wss://stream.binance.us:9443/ws/\" + marketSymbol + \"@depth\")) {\n",
    "\n",
    "                @Override\n",
    "                public void onOpen(ServerHandshake handshakedata) {\n",
    "                    System.out.println(\"WebSocket连接成功\");\n",
    "                }\n",
    "\n",
    "                @Override\n",
    "                public void onMessage(String message) {\n",
    "                    // 处理接收到的消息\n",
    "                    System.out.println(\"接收到的消息: \" + message);\n",
    "                }\n",
    "\n",
    "                @Override\n",
    "                public void onClose(int code, String reason, boolean remote) {\n",
    "                    System.out.println(\"WebSocket连接关闭\");\n",
    "                }\n",
    "\n",
    "                @Override\n",
    "                public void onError(Exception ex) {\n",
    "                    ex.printStackTrace();\n",
    "                }\n",
    "            };\n",
    "\n",
    "            client.connect();\n",
    "        } catch (URISyntaxException e) {\n",
    "            e.printStackTrace();\n",
    "        }\n",
    "    }\n",
    "}\n",
    "```\n",
    "\n",
    "### 协议解析\n",
    "\n",
    "<img src=\"proto_parse@2x.png\" width=\"100%\" height=\"100%\" />\n",
    "\n",
    "根据协议文档解析以上的 websocket 报文\n",
    "\n",
    "提示词如下：\n",
    "\n",
    "```bash\n",
    "<head>\n",
    "横向表格，这是所有协议的头\n",
    "起始域\t长度域\t信息域\t序列号域\t命令代 CMD\t数据域\t校验和域\n",
    "2 (字节)\t2 (字节)\t1 (字节)\t1 (字节)\t2 (字节)\tN (字节)\t1 (字节)\n",
    "0xAA0xF5\t0～0x8000\t0x10\t0～0xFF\t消息类型\t参考说明\t后 8 位\n",
    "</head>\n",
    "\n",
    "<cmd>\n",
    "纵向表格，每行是一个属性\n",
    "CMD为8 的协议格式\n",
    "序号\t字段定义\t长度（字节)\t说明\n",
    "1\t预留\t2\t预留\n",
    "2\t预留\t2\t预留\n",
    "3*\t充电桩编码\t32\tASCII 编码\n",
    "4*\t充电枪口\t1\t同服务发送枪口\n",
    "5*\t命令执行结果\t4\t0 表示成功，其它失败含义见附录 3\n",
    "6\t充电流水号\t32\t按命令 7 的字段 13 回复\n",
    "</cmd>\n",
    "\n",
    "\n",
    "<example>\n",
    "\n",
    "\t指令：8\n",
    "\t报文：aaf552000204080000000000454e3230323131323031303900000000000000000000000000000000000000000200000000313030303030353338370000000000000000000000000000000000000000000087\n",
    "\t内容：充电桩编码=EN2021120109,充电枪口=2,命令执行结果=0,流水号=1000005387\n",
    "\n",
    "\t指令：8\n",
    "\t报文：aaf552000236080000000000454e3230323131323031313000000000000000000000000000000000000000000200000000313030303030353338380000000000000000000000000000000000000000000080\n",
    "\t内容：充电桩编码=EN2021120110,充电枪口=2,命令执行结果=0,流水号=1000005388\n",
    "\n",
    "\t指令：8\n",
    "\t报文：aaf55200020a080000000000454e323032313132303131310000000000000000000000000000000000000000010000000031303030303035333836000000000000000000000000000000000000000000007e\n",
    "\t内容：充电桩编码=EN2021120111,充电枪口=1,命令执行结果=0,流水号=1000005386\n",
    "\n",
    "</example>\n",
    "\n",
    "根据以上的内容 {head} {cmd} {example} 对应的内容，对于\n",
    "<test> \t初级：解析指令8以下报文：\n",
    "\t报文：aaf552000234080000000000454e323032313132303131300000000000000000000000000000000000000000010000000031303030303035333835000000000000000000000000000000000000000000007c</test>\n",
    "请返回对应的'内容'是什么?\n",
    "```\n",
    "\n",
    "#### 思考题：\n",
    "\n",
    "```bash\n",
    "训练指令\n",
    "\t指令：104\n",
    "\t报文：aaf5f900023d680000000000454e323032313132303131310000000000000000000000000000000000000000020201000075000000000000000032000000000000000000000000000000000000000000000000000000000000000000000000000090250400a925040001000000000000000000000000000000000000000000000000000000000000000000000000000000000000000000000000000000804f12000000000010270000f401000058340000324f4d000000000000000000000000000000000000000000000000000000000000000000000000000000000000000000000000000000000000000000000000000000000000000085\n",
    "\t内容：startConId=2, conType=1, workStatus=0, soc=0, warning=117, joinStatus=0, totalMoney=0, voltageDc=0, dc=0, bmsVoltageDC=0, bmsDC=0, bmsChargeStatus=0, av=0, bv=0, cv=0, ai=0, bi=0, ci=0, remainChargeTime=0, chargeTime=0, kwh=0, meterReadingBeforeCharging=271760, currentMeterReading=271785, startStatus=1, chargingStrategy=0, chargingStrategyParam=0, reservationMark=0, cardNum=, reservationTimeout=0, startTime=00000000000000, cardBalanceBeforeCharging=0, ratedW=1200000, w=0, maxV=10000, minV=500, maxI=13400, exitC=50, envC=79, conC=77, vin=, doorCondition=0, orderSn=, totalCharge=0, totalServiceMoney=0, conChargeStatus=0, packingLockStatus=0, kwhStatus=0, electricityMeter=0, chargeStrategy=0, inStatus=0, conNumV=2, pipeSnV=EN2021120111, hardwareErrorDesc=null, entryC=50\n",
    "\n",
    "\t指令：104\n",
    "\t报文：aaf5f900023c680000000000454e3230323131323031313100000000000000000000000000000000000000000201010000750000000000000000320000000000000000000000000000000000000000000000000000000000000000000000000000a63b05005a40050001000000000000000000000000000000000000000000000000000000000000000000000000000000000000000000000000000000804f12000000000010270000f401000058340000324f4d00000000000000000000000000000000000000000000000000000000000000000000000000000000000000000000000000000000000000000000000000000000000000007e\n",
    "\t内容：startConId=1, conType=1, workStatus=0, soc=0, warning=117, joinStatus=0, totalMoney=0, voltageDc=0, dc=0, bmsVoltageDC=0, bmsDC=0, bmsChargeStatus=0, av=0, bv=0, cv=0, ai=0, bi=0, ci=0, remainChargeTime=0, chargeTime=0, kwh=0, meterReadingBeforeCharging=342950, currentMeterReading=344154, startStatus=1, chargingStrategy=0, chargingStrategyParam=0, reservationMark=0, cardNum=, reservationTimeout=0, startTime=00000000000000, cardBalanceBeforeCharging=0, ratedW=1200000, w=0, maxV=10000, minV=500, maxI=13400, exitC=50, envC=79, conC=77, vin=, doorCondition=0, orderSn=, totalCharge=0, totalServiceMoney=0, conChargeStatus=0, packingLockStatus=0, kwhStatus=0, electricityMeter=0, chargeStrategy=0, inStatus=0, conNumV=2, pipeSnV=EN2021120111, hardwareErrorDesc=null, entryC=50\n",
    "\n",
    "\t指令：104\n",
    "\t报文：aaf5f900022c680000000000454e3230323131323031303900000000000000000000000000000000000000000202010300750000000000000000320000000000000000000000000000000000000000000000000000000000000000000000000000f0f21300a904140001000000000000000000000000000000000000000000000000000000000000000000000000000000000000000000000000000000804f12000000000010270000f40100005834000032504d0000000000000000000000000000000000000000000000000000000000000000000000000000000000000000000000000000000000000000000000000000000000000000bb\n",
    "\t内容：?\n",
    "```\n",
    "\n",
    "解答技巧：\n",
    "\n",
    "1. 内容是有规律的\n",
    "2. 内容有参考格式说明\n"
   ]
  },
  {
   "cell_type": "markdown",
   "id": "5b54897d-e11d-46ca-9553-2e42d860488e",
   "metadata": {},
   "source": [
    "# 不管是个人还是企业，都能借用 AI 提效\n"
   ]
  },
  {
   "cell_type": "markdown",
   "id": "08242f54-dc17-4e95-816a-fa7af1974cb6",
   "metadata": {},
   "source": [
    "<div class=\"alert alert-success\">\n",
    "<b>要点总结：</b>\n",
    "<ol>\n",
    "<li>通过天天使用，总结使用大模型的规律，认知：<b>凡是「输入和输出都是文本」的场景，都值得尝试用大模型提效。</b></li>\n",
    "<li>通过体验 GitHub Copilot，认知：<b>AI 产品的打磨过程、落地和目前盈利产品如何打造</b></li>\n",
    "<li>通过介绍原理，认知：<b>AI 目前的上限，以及 AI 组织数据和达到上限的条件</b></li>\n",
    "<li>对于 AI 产品如何反馈有效性，认知：<b> AI 产品落地的有效性管理方法</b></li>\n",
    "<li>通过介绍两大定律，认知：<b>AI 幻觉不可消灭； AI 的能效；</b></li>\n",
    "</ol>\n",
    "<b> 以成功案例为例，理解基本原理，避免拍脑袋 </b>\n",
    "</div>\n"
   ]
  },
  {
   "cell_type": "markdown",
   "id": "6eb42a27-adc7-472d-b587-d1908eaf88cc",
   "metadata": {},
   "source": [
    "# 实操课课件\n",
    "\n",
    "- [5 期：AI 编程工具与演示笔记](https://agiclass.feishu.cn/docx/ClrVddclboshICxgMmgcOggMnU3)\n",
    "- [6 期：AI 编程工具与演示笔记](https://agiclass.feishu.cn/docx/FQG5dbeCqo4UjAxXKgucrWmgn9f)\n",
    "- 时间\n",
    "- 4 月 19 日 19:00-22:30\n",
    "- 大纲：\n",
    "  - Visual Studio Code 编程工具安装介绍\n",
    "  - 开源工具 Tabby 搭建\n",
    "  - 用 AI 编程写一个 ChatBot 前后端\n",
    "  - 随机问题用 AI 编程实现\n"
   ]
  },
  {
   "cell_type": "markdown",
   "id": "9da13241-4bf2-4183-a83f-e43142209a62",
   "metadata": {},
   "source": [
    "## 彩蛋\n",
    "\n",
    "Copilot 白嫖指南：\n",
    "\n",
    "- 参与开源项目，可免费使用。ChatALL 随时欢迎大家参与\n",
    "- 在校生，免费使用。[在此申请](https://docs.github.com/en/education/explore-the-benefits-of-teaching-and-learning-with-github-education/github-global-campus-for-students/apply-to-github-global-campus-as-a-student)\n"
   ]
  },
  {
   "cell_type": "markdown",
   "id": "9ba7a935-2263-4d9c-903c-73bd763b0d5b",
   "metadata": {},
   "source": [
    "## 作业\n",
    "\n",
    "- **思考你的\"AI 编程\"** 产品\n",
    "- 想好问题明天怎么虐林老师\n",
    "\n",
    "<div class=\"alert alert-success\">\n",
    "开始使用 AI 编程，把 Aha! 时刻分享到群\n",
    "</div>\n"
   ]
  }
 ],
 "metadata": {
  "kernelspec": {
   "display_name": "Python 3 (ipykernel)",
   "language": "python",
   "name": "python3"
  },
  "language_info": {
   "codemirror_mode": {
    "name": "ipython",
    "version": 3
   },
   "file_extension": ".py",
   "mimetype": "text/x-python",
   "name": "python",
   "nbconvert_exporter": "python",
   "pygments_lexer": "ipython3",
   "version": "3.11.7"
  }
 },
 "nbformat": 4,
 "nbformat_minor": 5
}
